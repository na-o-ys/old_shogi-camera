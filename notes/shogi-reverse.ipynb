{
 "cells": [
  {
   "cell_type": "code",
   "execution_count": 1,
   "metadata": {
    "scrolled": true
   },
   "outputs": [
    {
     "name": "stderr",
     "output_type": "stream",
     "text": [
      "Using TensorFlow backend.\n"
     ]
    },
    {
     "name": "stdout",
     "output_type": "stream",
     "text": [
      "../learn/00.npz\n",
      "../learn/01.npz\n",
      "../learn/02.npz\n",
      "../learn/03.npz\n",
      "../learn/04.npz\n",
      "../learn/05.npz\n",
      "../learn/06.npz\n",
      "../learn/07.npz\n",
      "../learn/08.npz\n",
      "../learn/09.npz\n",
      "../learn/10.npz\n",
      "../learn/11.npz\n",
      "../learn/12.npz\n",
      "../learn/13.npz\n",
      "../learn/14.npz\n",
      "../learn/15.npz\n",
      "../learn/16.npz\n",
      "../learn/17.npz\n",
      "../learn/18.npz\n",
      "../learn/19.npz\n",
      "../learn/20.npz\n",
      "../learn/21.npz\n",
      "../learn/22.npz\n",
      "../learn/23.npz\n",
      "../learn/24.npz\n",
      "../learn/25.npz\n",
      "../learn/26.npz\n",
      "../learn/27.npz\n"
     ]
    }
   ],
   "source": [
    "import numpy as np\n",
    "import scipy.misc\n",
    "import glob\n",
    "import keras\n",
    "from keras import backend as K\n",
    "from keras.layers import Conv2D, MaxPooling2D, Input\n",
    "from keras.layers import Dense, Dropout, Flatten\n",
    "from keras.layers.merge import Concatenate\n",
    "from keras.models import Sequential, Model\n",
    "from keras.preprocessing.image import ImageDataGenerator\n",
    "from sklearn.model_selection import train_test_split\n",
    "from io import BytesIO\n",
    "from IPython import display\n",
    "from PIL import Image\n",
    "\n",
    "def display_image(arr):\n",
    "    b = BytesIO()\n",
    "    Image.fromarray(np.uint8(arr)).save(b, format='png')\n",
    "    data = b.getvalue()\n",
    "    display.display(display.Image(data=data, format='png', embed=True))\n",
    "\n",
    "labels = ['gyoku', 'ou', 'kin', 'gin', 'kei', 'kyo', 'kaku', 'hi', 'fu', 'narigin', 'narikei', 'narikyo', 'uma', 'ryu', 'to']\n",
    "num_classes = len(labels) * 2 + 1\n",
    "\n",
    "# input image dimensions\n",
    "img_rows, img_cols = 64, 64\n",
    "input_shape = (img_rows, img_cols, 1)\n",
    "\n",
    "series_imgs = []\n",
    "series_labels = []\n",
    "for i, series in enumerate(sorted(glob.glob(\"../learn/*.npz\"))):\n",
    "    file = np.load(series)\n",
    "    print(series)\n",
    "    series_imgs.append(file['imgs'].astype(np.float32))\n",
    "    series_labels.append(file['labels'])\n",
    "num_series = len(series_imgs)"
   ]
  },
  {
   "cell_type": "code",
   "execution_count": 2,
   "metadata": {},
   "outputs": [
    {
     "name": "stdout",
     "output_type": "stream",
     "text": [
      "(790, 64, 64)\n",
      "(790, 2)\n"
     ]
    }
   ],
   "source": [
    "# load all\n",
    "x_all = np.empty((0, img_rows, img_cols))\n",
    "y_all = np.empty((0, 2), np.int32)\n",
    "for i in range(num_series):\n",
    "    num_imgs = len(series_imgs[i])\n",
    "    x_all = np.r_[x_all, series_imgs[i]]\n",
    "    label_indices = []\n",
    "    for j, label in enumerate(series_labels[i]):\n",
    "        label_indices.append(labels.index(label))\n",
    "    label_and_series = np.c_[label_indices, np.full((num_imgs), i)]\n",
    "    y_all = np.r_[y_all, label_and_series]\n",
    "\n",
    "# rot 180\n",
    "x_all = np.r_[x_all, np.rot90(x_all, 2, (1, 2))]\n",
    "y_rot = np.copy(y_all)\n",
    "y_rot[:, 0] += len(labels)\n",
    "y_all = np.r_[y_all, y_rot]\n",
    "\n",
    "# space\n",
    "space_imgs = np.load('../learn/space/space.npz')['imgs'].astype(np.float32)\n",
    "x_all = np.r_[x_all, space_imgs]\n",
    "y_space = np.full((len(space_imgs), 2), [len(labels) * 2, num_series])\n",
    "y_all = np.r_[y_all, y_space]\n",
    "\n",
    "print(x_all.shape)\n",
    "print(y_all.shape)\n",
    "\n",
    "# reshape to TF\n",
    "x_all = x_all.reshape(x_all.shape[0], img_rows, img_cols, 1)\n",
    "x_all = x_all.astype(np.float32)\n",
    "x_all /= 255"
   ]
  },
  {
   "cell_type": "code",
   "execution_count": 3,
   "metadata": {},
   "outputs": [
    {
     "data": {
      "image/png": "[encoded data removed]",
      "text/plain": [
       "<IPython.core.display.Image object>"
      ]
     },
     "metadata": {},
     "output_type": "display_data"
    },
    {
     "name": "stdout",
     "output_type": "stream",
     "text": [
      "[15  1]\n",
      "31\n"
     ]
    }
   ],
   "source": [
    "display_image((x_all[401] * 255)[:, :, 0])\n",
    "print(y_all[401])\n",
    "print(num_classes)"
   ]
  },
  {
   "cell_type": "code",
   "execution_count": 4,
   "metadata": {
    "collapsed": true
   },
   "outputs": [],
   "source": [
    "x_train, x_test, y_train, y_test = train_test_split(x_all, y_all, test_size=0.05)\n",
    "\n",
    "# train_ids = np.where(y_all[:, 1] != 20)\n",
    "# test_ids = np.where(y_all[:, 1] == 20)\n",
    "# x_train = x_all[train_ids]\n",
    "# x_test = x_all[test_ids]\n",
    "# y_train = y_all[train_ids]\n",
    "# y_test = y_all[test_ids]\n",
    "# print(test_ids)\n",
    "# display_image(np.uint8(x_test[0] * 255)[:, :, 0])\n",
    "\n",
    "# convert class vectors to binary class matrices\n",
    "y_train = keras.utils.to_categorical(y_train[:, 0], num_classes)\n",
    "y_test = keras.utils.to_categorical(y_test[:, 0], num_classes)"
   ]
  },
  {
   "cell_type": "code",
   "execution_count": 5,
   "metadata": {
    "scrolled": true
   },
   "outputs": [
    {
     "name": "stdout",
     "output_type": "stream",
     "text": [
      "_________________________________________________________________\n",
      "Layer (type)                 Output Shape              Param #   \n",
      "=================================================================\n",
      "conv2d_1 (Conv2D)            (None, 62, 62, 32)        320       \n",
      "_________________________________________________________________\n",
      "max_pooling2d_1 (MaxPooling2 (None, 31, 31, 32)        0         \n",
      "_________________________________________________________________\n",
      "dropout_1 (Dropout)          (None, 31, 31, 32)        0         \n",
      "_________________________________________________________________\n",
      "conv2d_2 (Conv2D)            (None, 29, 29, 64)        18496     \n",
      "_________________________________________________________________\n",
      "max_pooling2d_2 (MaxPooling2 (None, 14, 14, 64)        0         \n",
      "_________________________________________________________________\n",
      "dropout_2 (Dropout)          (None, 14, 14, 64)        0         \n",
      "_________________________________________________________________\n",
      "conv2d_3 (Conv2D)            (None, 12, 12, 128)       73856     \n",
      "_________________________________________________________________\n",
      "max_pooling2d_3 (MaxPooling2 (None, 6, 6, 128)         0         \n",
      "_________________________________________________________________\n",
      "dropout_3 (Dropout)          (None, 6, 6, 128)         0         \n",
      "_________________________________________________________________\n",
      "flatten_1 (Flatten)          (None, 4608)              0         \n",
      "_________________________________________________________________\n",
      "dense_1 (Dense)              (None, 256)               1179904   \n",
      "_________________________________________________________________\n",
      "dropout_4 (Dropout)          (None, 256)               0         \n",
      "_________________________________________________________________\n",
      "dense_2 (Dense)              (None, 256)               65792     \n",
      "_________________________________________________________________\n",
      "dropout_5 (Dropout)          (None, 256)               0         \n",
      "_________________________________________________________________\n",
      "dense_3 (Dense)              (None, 31)                7967      \n",
      "=================================================================\n",
      "Total params: 1,346,335\n",
      "Trainable params: 1,346,335\n",
      "Non-trainable params: 0\n",
      "_________________________________________________________________\n"
     ]
    }
   ],
   "source": [
    "datagen = ImageDataGenerator(rotation_range=15, zoom_range=0.25)\n",
    "datagen.fit(x_train)\n",
    "\n",
    "model = Sequential()\n",
    "model.add(Conv2D(32, kernel_size=(3, 3), activation='relu', input_shape=input_shape))\n",
    "model.add(MaxPooling2D(pool_size=(2, 2)))\n",
    "model.add(Dropout(0.2))\n",
    "\n",
    "model.add(Conv2D(64, kernel_size=(3, 3), activation='relu', input_shape=input_shape))\n",
    "model.add(MaxPooling2D(pool_size=(2, 2)))\n",
    "model.add(Dropout(0.3))\n",
    "\n",
    "model.add(Conv2D(128, kernel_size=(3, 3), activation='relu', input_shape=input_shape))\n",
    "model.add(MaxPooling2D(pool_size=(2, 2)))\n",
    "model.add(Dropout(0.4))\n",
    "\n",
    "model.add(Flatten())\n",
    "model.add(Dense(256, activation='relu'))\n",
    "model.add(Dropout(0.5))\n",
    "model.add(Dense(256, activation='relu'))\n",
    "model.add(Dropout(0.5))\n",
    "model.add(Dense(num_classes, activation='softmax'))\n",
    "\n",
    "model.summary()"
   ]
  },
  {
   "cell_type": "code",
   "execution_count": 6,
   "metadata": {
    "scrolled": false
   },
   "outputs": [
    {
     "name": "stdout",
     "output_type": "stream",
     "text": [
      "Epoch 1/80\n",
      "750/750 [==============================] - 12s - loss: 3.3525 - acc: 0.0515 - val_loss: 2.8933 - val_acc: 0.1500\n",
      "Epoch 2/80\n",
      "750/750 [==============================] - 11s - loss: 2.5464 - acc: 0.1992 - val_loss: 2.1135 - val_acc: 0.4000\n",
      "Epoch 3/80\n",
      "750/750 [==============================] - 11s - loss: 1.9572 - acc: 0.3378 - val_loss: 1.5469 - val_acc: 0.5250\n",
      "Epoch 4/80\n",
      "750/750 [==============================] - 11s - loss: 1.5599 - acc: 0.4573 - val_loss: 1.2548 - val_acc: 0.5500\n",
      "Epoch 5/80\n",
      "750/750 [==============================] - 12s - loss: 1.2425 - acc: 0.5671 - val_loss: 0.9531 - val_acc: 0.5750\n",
      "Epoch 6/80\n",
      "750/750 [==============================] - 11s - loss: 0.9846 - acc: 0.6550 - val_loss: 0.9806 - val_acc: 0.6000\n",
      "Epoch 7/80\n",
      "750/750 [==============================] - 12s - loss: 0.8100 - acc: 0.7138 - val_loss: 0.8061 - val_acc: 0.6750\n",
      "Epoch 8/80\n",
      "750/750 [==============================] - 12s - loss: 0.6846 - acc: 0.7549 - val_loss: 0.7427 - val_acc: 0.6500\n",
      "Epoch 9/80\n",
      "750/750 [==============================] - 12s - loss: 0.5998 - acc: 0.7867 - val_loss: 0.6910 - val_acc: 0.7500\n",
      "Epoch 10/80\n",
      "750/750 [==============================] - 12s - loss: 0.5294 - acc: 0.8128 - val_loss: 0.6780 - val_acc: 0.6750\n",
      "Epoch 11/80\n",
      "750/750 [==============================] - 12s - loss: 0.4667 - acc: 0.8316 - val_loss: 0.6043 - val_acc: 0.7000\n",
      "Epoch 12/80\n",
      "750/750 [==============================] - 11s - loss: 0.4280 - acc: 0.8473 - val_loss: 0.6705 - val_acc: 0.7750\n",
      "Epoch 13/80\n",
      "750/750 [==============================] - 11s - loss: 0.3732 - acc: 0.8650 - val_loss: 0.6944 - val_acc: 0.7000\n",
      "Epoch 14/80\n",
      "750/750 [==============================] - 12s - loss: 0.3547 - acc: 0.8726 - val_loss: 0.6484 - val_acc: 0.7250\n",
      "Epoch 15/80\n",
      "750/750 [==============================] - 12s - loss: 0.3227 - acc: 0.8822 - val_loss: 0.7671 - val_acc: 0.7500\n",
      "Epoch 16/80\n",
      "750/750 [==============================] - 12s - loss: 0.3000 - acc: 0.8925 - val_loss: 0.6714 - val_acc: 0.7500\n",
      "Epoch 17/80\n",
      "750/750 [==============================] - 11s - loss: 0.2645 - acc: 0.9047 - val_loss: 0.6861 - val_acc: 0.7750\n",
      "Epoch 18/80\n",
      "750/750 [==============================] - 12s - loss: 0.2488 - acc: 0.9107 - val_loss: 0.7763 - val_acc: 0.7750\n",
      "Epoch 19/80\n",
      "750/750 [==============================] - 12s - loss: 0.2415 - acc: 0.9159 - val_loss: 0.6090 - val_acc: 0.8500\n",
      "Epoch 20/80\n",
      "750/750 [==============================] - 12s - loss: 0.2382 - acc: 0.9178 - val_loss: 0.6266 - val_acc: 0.7500\n",
      "Epoch 21/80\n",
      "750/750 [==============================] - 11s - loss: 0.2102 - acc: 0.9281 - val_loss: 0.6432 - val_acc: 0.7500\n",
      "Epoch 22/80\n",
      "750/750 [==============================] - 12s - loss: 0.2102 - acc: 0.9272 - val_loss: 0.7576 - val_acc: 0.8250\n",
      "Epoch 23/80\n",
      "750/750 [==============================] - 11s - loss: 0.1960 - acc: 0.9325 - val_loss: 0.7284 - val_acc: 0.8000\n",
      "Epoch 24/80\n",
      "750/750 [==============================] - 12s - loss: 0.1795 - acc: 0.9383 - val_loss: 0.5043 - val_acc: 0.8250\n",
      "Epoch 25/80\n",
      "750/750 [==============================] - 13s - loss: 0.1892 - acc: 0.9383 - val_loss: 0.5807 - val_acc: 0.8250\n",
      "Epoch 26/80\n",
      "750/750 [==============================] - 12s - loss: 0.1723 - acc: 0.9419 - val_loss: 0.6542 - val_acc: 0.8000\n",
      "Epoch 27/80\n",
      "750/750 [==============================] - 20s - loss: 0.1668 - acc: 0.9438 - val_loss: 0.6245 - val_acc: 0.8250\n",
      "Epoch 28/80\n",
      "750/750 [==============================] - 23s - loss: 0.1672 - acc: 0.9433 - val_loss: 0.6417 - val_acc: 0.8000\n",
      "Epoch 29/80\n",
      "750/750 [==============================] - 25s - loss: 0.1527 - acc: 0.9501 - val_loss: 0.6463 - val_acc: 0.8750\n",
      "Epoch 30/80\n",
      "750/750 [==============================] - 25s - loss: 0.1441 - acc: 0.9534 - val_loss: 0.7456 - val_acc: 0.8250\n",
      "Epoch 31/80\n",
      "750/750 [==============================] - 25s - loss: 0.1475 - acc: 0.9506 - val_loss: 0.6021 - val_acc: 0.8750\n",
      "Epoch 32/80\n",
      "750/750 [==============================] - 26s - loss: 0.1431 - acc: 0.9534 - val_loss: 0.6809 - val_acc: 0.8250\n",
      "Epoch 33/80\n",
      "750/750 [==============================] - 22s - loss: 0.1379 - acc: 0.9557 - val_loss: 0.5988 - val_acc: 0.8250\n",
      "Epoch 34/80\n",
      "750/750 [==============================] - 11s - loss: 0.1311 - acc: 0.9555 - val_loss: 0.6240 - val_acc: 0.8250\n",
      "Epoch 35/80\n",
      "750/750 [==============================] - 11s - loss: 0.1373 - acc: 0.9558 - val_loss: 0.6641 - val_acc: 0.8750\n",
      "Epoch 36/80\n",
      "750/750 [==============================] - 11s - loss: 0.1275 - acc: 0.9585 - val_loss: 0.6925 - val_acc: 0.8500\n",
      "Epoch 37/80\n",
      "750/750 [==============================] - 11s - loss: 0.1326 - acc: 0.9562 - val_loss: 0.6618 - val_acc: 0.8500\n",
      "Epoch 38/80\n",
      "750/750 [==============================] - 11s - loss: 0.1255 - acc: 0.9615 - val_loss: 0.6123 - val_acc: 0.8250\n",
      "Epoch 39/80\n",
      "750/750 [==============================] - 11s - loss: 0.1238 - acc: 0.9603 - val_loss: 0.4407 - val_acc: 0.9000\n",
      "Epoch 40/80\n",
      "750/750 [==============================] - 11s - loss: 0.1303 - acc: 0.9580 - val_loss: 0.5294 - val_acc: 0.8500\n",
      "Epoch 41/80\n",
      "750/750 [==============================] - 11s - loss: 0.1164 - acc: 0.9621 - val_loss: 0.5613 - val_acc: 0.8750\n",
      "Epoch 42/80\n",
      "750/750 [==============================] - 11s - loss: 0.1230 - acc: 0.9612 - val_loss: 0.5129 - val_acc: 0.8750\n",
      "Epoch 43/80\n",
      "750/750 [==============================] - 11s - loss: 0.1277 - acc: 0.9604 - val_loss: 0.5427 - val_acc: 0.8250\n",
      "Epoch 44/80\n",
      "750/750 [==============================] - 11s - loss: 0.1188 - acc: 0.9621 - val_loss: 0.5716 - val_acc: 0.8750\n",
      "Epoch 45/80\n",
      "750/750 [==============================] - 11s - loss: 0.1164 - acc: 0.9651 - val_loss: 0.5716 - val_acc: 0.8500\n",
      "Epoch 46/80\n",
      "750/750 [==============================] - 11s - loss: 0.1105 - acc: 0.9658 - val_loss: 0.5461 - val_acc: 0.8750\n",
      "Epoch 47/80\n",
      "750/750 [==============================] - 11s - loss: 0.1183 - acc: 0.9628 - val_loss: 0.4251 - val_acc: 0.8750\n",
      "Epoch 48/80\n",
      "750/750 [==============================] - 11s - loss: 0.1212 - acc: 0.9633 - val_loss: 0.5493 - val_acc: 0.8500\n",
      "Epoch 49/80\n",
      "750/750 [==============================] - 11s - loss: 0.1170 - acc: 0.9647 - val_loss: 0.5065 - val_acc: 0.8750\n",
      "Epoch 50/80\n",
      "750/750 [==============================] - 11s - loss: 0.1096 - acc: 0.9664 - val_loss: 0.5314 - val_acc: 0.8250\n",
      "Epoch 51/80\n",
      "750/750 [==============================] - 11s - loss: 0.1305 - acc: 0.9610 - val_loss: 0.5408 - val_acc: 0.8250\n",
      "Epoch 52/80\n",
      "750/750 [==============================] - 11s - loss: 0.1169 - acc: 0.9659 - val_loss: 0.5442 - val_acc: 0.8500\n",
      "Epoch 53/80\n",
      "750/750 [==============================] - 11s - loss: 0.1226 - acc: 0.9639 - val_loss: 0.5546 - val_acc: 0.8500\n",
      "Epoch 54/80\n",
      "750/750 [==============================] - 11s - loss: 0.1109 - acc: 0.9666 - val_loss: 0.4499 - val_acc: 0.8750\n",
      "Epoch 55/80\n",
      "750/750 [==============================] - 11s - loss: 0.1112 - acc: 0.9663 - val_loss: 0.6471 - val_acc: 0.8750\n",
      "Epoch 56/80\n",
      "750/750 [==============================] - 11s - loss: 0.1049 - acc: 0.9686 - val_loss: 0.5253 - val_acc: 0.8500\n",
      "Epoch 57/80\n",
      "750/750 [==============================] - 11s - loss: 0.1194 - acc: 0.9645 - val_loss: 0.4835 - val_acc: 0.9000\n",
      "Epoch 58/80\n",
      "750/750 [==============================] - 11s - loss: 0.1080 - acc: 0.9702 - val_loss: 0.6389 - val_acc: 0.8500\n",
      "Epoch 59/80\n",
      "750/750 [==============================] - 11s - loss: 0.1149 - acc: 0.9665 - val_loss: 0.5919 - val_acc: 0.8750\n",
      "Epoch 60/80\n",
      "750/750 [==============================] - 11s - loss: 0.1286 - acc: 0.9667 - val_loss: 0.5083 - val_acc: 0.8500\n",
      "Epoch 61/80\n",
      "750/750 [==============================] - 11s - loss: 0.1145 - acc: 0.9659 - val_loss: 0.4622 - val_acc: 0.8500\n",
      "Epoch 62/80\n",
      "750/750 [==============================] - 11s - loss: 0.1111 - acc: 0.9671 - val_loss: 0.5865 - val_acc: 0.9000\n",
      "Epoch 63/80\n",
      "750/750 [==============================] - 11s - loss: 0.1192 - acc: 0.9669 - val_loss: 0.7307 - val_acc: 0.8500\n",
      "Epoch 64/80\n",
      "750/750 [==============================] - 11s - loss: 0.1178 - acc: 0.9670 - val_loss: 0.4874 - val_acc: 0.9000\n",
      "Epoch 65/80\n",
      "750/750 [==============================] - 11s - loss: 0.1246 - acc: 0.9651 - val_loss: 0.5964 - val_acc: 0.8750\n",
      "Epoch 66/80\n"
     ]
    },
    {
     "name": "stdout",
     "output_type": "stream",
     "text": [
      "750/750 [==============================] - 11s - loss: 0.1064 - acc: 0.9683 - val_loss: 0.5760 - val_acc: 0.8750\n",
      "Epoch 67/80\n",
      "750/750 [==============================] - 11s - loss: 0.1158 - acc: 0.9661 - val_loss: 0.4850 - val_acc: 0.8500\n",
      "Epoch 68/80\n",
      "750/750 [==============================] - 11s - loss: 0.1155 - acc: 0.9675 - val_loss: 0.4207 - val_acc: 0.8750\n",
      "Epoch 69/80\n",
      "750/750 [==============================] - 11s - loss: 0.1203 - acc: 0.9673 - val_loss: 0.5648 - val_acc: 0.8500\n",
      "Epoch 70/80\n",
      "750/750 [==============================] - 11s - loss: 0.1320 - acc: 0.9633 - val_loss: 0.5289 - val_acc: 0.8500\n",
      "Epoch 71/80\n",
      "750/750 [==============================] - 11s - loss: 0.1161 - acc: 0.9674 - val_loss: 0.4902 - val_acc: 0.8750\n",
      "Epoch 72/80\n",
      "750/750 [==============================] - 11s - loss: 0.1160 - acc: 0.9689 - val_loss: 0.5380 - val_acc: 0.8750\n",
      "Epoch 73/80\n",
      "750/750 [==============================] - 11s - loss: 0.1208 - acc: 0.9660 - val_loss: 0.5605 - val_acc: 0.8500\n",
      "Epoch 74/80\n",
      "750/750 [==============================] - 11s - loss: 0.1294 - acc: 0.9668 - val_loss: 0.4972 - val_acc: 0.8500\n",
      "Epoch 75/80\n",
      "750/750 [==============================] - 11s - loss: 0.1113 - acc: 0.9674 - val_loss: 0.5599 - val_acc: 0.8750\n",
      "Epoch 76/80\n",
      "750/750 [==============================] - 11s - loss: 0.1208 - acc: 0.9678 - val_loss: 0.5789 - val_acc: 0.8750\n",
      "Epoch 77/80\n",
      "750/750 [==============================] - 11s - loss: 0.1108 - acc: 0.9700 - val_loss: 0.5972 - val_acc: 0.8500\n",
      "Epoch 78/80\n",
      "750/750 [==============================] - 11s - loss: 0.1221 - acc: 0.9669 - val_loss: 0.6210 - val_acc: 0.8000\n",
      "Epoch 79/80\n",
      "750/750 [==============================] - 11s - loss: 0.1180 - acc: 0.9676 - val_loss: 0.4499 - val_acc: 0.9000\n",
      "Epoch 80/80\n",
      "750/750 [==============================] - 11s - loss: 0.1196 - acc: 0.9690 - val_loss: 0.5615 - val_acc: 0.9000\n",
      "Test loss: 0.561531352997\n",
      "Test accuracy: 0.9\n"
     ]
    }
   ],
   "source": [
    "model.compile(loss=keras.losses.categorical_crossentropy,\n",
    "              optimizer=keras.optimizers.Adadelta(),\n",
    "              metrics=['accuracy'])\n",
    "model.fit_generator(datagen.flow(x_train, y_train, batch_size=16), steps_per_epoch=x_train.shape[0],\n",
    "                    epochs=80, verbose=1, validation_data=(x_test, y_test))\n",
    "score = model.evaluate(x_test, y_test, verbose=0)\n",
    "print('Test loss:', score[0])\n",
    "print('Test accuracy:', score[1])"
   ]
  },
  {
   "cell_type": "code",
   "execution_count": 11,
   "metadata": {},
   "outputs": [],
   "source": [
    "model.save_weights('../learn/param.hdf5')"
   ]
  },
  {
   "cell_type": "code",
   "execution_count": 7,
   "metadata": {},
   "outputs": [
    {
     "name": "stdout",
     "output_type": "stream",
     "text": [
      "[19 29 21 22  6 16  8 29 29 14  9 16 18 18 15 18  0  2 24 16  1  3 21 10 12\n",
      " 11 16  6  0  2  5  9 10 28 29  8  4  8 22 28]\n",
      "[19 26 21 22  6 16  8 29 29 12  9 16 18 18 15 18  1  2 24 16  1  3 21 10 12\n",
      " 11 16  6  0  2  5  9 10 13 29  8  4  8 22 28]\n",
      "[ 1  9 16 33]\n"
     ]
    }
   ],
   "source": [
    "pred_res = model.predict(x_test)\n",
    "res = np.array([np.argmax(r) for r in pred_res])\n",
    "ans = np.array([np.where(y == 1)[0][0] for y in y_test])\n",
    "print(res)\n",
    "print(ans)\n",
    "correct = np.where(res == ans)[0]\n",
    "errors = np.where(res != ans)[0]\n",
    "print(errors)"
   ]
  },
  {
   "cell_type": "code",
   "execution_count": 8,
   "metadata": {
    "scrolled": false
   },
   "outputs": [
    {
     "data": {
      "image/png": "[encoded data removed]",
      "text/plain": [
       "<IPython.core.display.Image object>"
      ]
     },
     "metadata": {},
     "output_type": "display_data"
    },
    {
     "name": "stdout",
     "output_type": "stream",
     "text": [
      "p\n",
      "to\n"
     ]
    },
    {
     "data": {
      "image/png": "[encoded data removed]",
      "text/plain": [
       "<IPython.core.display.Image object>"
      ]
     },
     "metadata": {},
     "output_type": "display_data"
    },
    {
     "name": "stdout",
     "output_type": "stream",
     "text": [
      "to\n"
     ]
    },
    {
     "data": {
      "image/png": "[encoded data removed]",
      "text/plain": [
       "<IPython.core.display.Image object>"
      ]
     },
     "metadata": {},
     "output_type": "display_data"
    },
    {
     "name": "stdout",
     "output_type": "stream",
     "text": [
      "gyoku\n"
     ]
    },
    {
     "data": {
      "image/png": "[encoded data removed]",
      "text/plain": [
       "<IPython.core.display.Image object>"
      ]
     },
     "metadata": {},
     "output_type": "display_data"
    },
    {
     "name": "stdout",
     "output_type": "stream",
     "text": [
      "p\n",
      "ryu\n"
     ]
    }
   ],
   "source": [
    "for e in errors:\n",
    "    display_image(np.uint8(x_test[e] * 255)[:, :, 0])\n",
    "    if len(labels) > res[e]:\n",
    "        print(labels[res[e]])\n",
    "    else:\n",
    "        print(\"p\")\n",
    "        print(labels[res[e] - len(labels)])"
   ]
  },
  {
   "cell_type": "code",
   "execution_count": 9,
   "metadata": {
    "scrolled": false
   },
   "outputs": [
    {
     "data": {
      "image/png": "[encoded data removed]",
      "text/plain": [
       "<IPython.core.display.Image object>"
      ]
     },
     "metadata": {},
     "output_type": "display_data"
    },
    {
     "name": "stdout",
     "output_type": "stream",
     "text": [
      "*kei\n"
     ]
    },
    {
     "data": {
      "image/png": "[encoded data removed]",
      "text/plain": [
       "<IPython.core.display.Image object>"
      ]
     },
     "metadata": {},
     "output_type": "display_data"
    },
    {
     "name": "stdout",
     "output_type": "stream",
     "text": [
      "*kaku\n"
     ]
    },
    {
     "data": {
      "image/png": "[encoded data removed]",
      "text/plain": [
       "<IPython.core.display.Image object>"
      ]
     },
     "metadata": {},
     "output_type": "display_data"
    },
    {
     "name": "stdout",
     "output_type": "stream",
     "text": [
      "*hi\n"
     ]
    },
    {
     "data": {
      "image/png": "[encoded data removed]",
      "text/plain": [
       "<IPython.core.display.Image object>"
      ]
     },
     "metadata": {},
     "output_type": "display_data"
    },
    {
     "name": "stdout",
     "output_type": "stream",
     "text": [
      "kaku\n"
     ]
    },
    {
     "data": {
      "image/png": "[encoded data removed]",
      "text/plain": [
       "<IPython.core.display.Image object>"
      ]
     },
     "metadata": {},
     "output_type": "display_data"
    },
    {
     "name": "stdout",
     "output_type": "stream",
     "text": [
      "*ou\n"
     ]
    },
    {
     "data": {
      "image/png": "[encoded data removed]",
      "text/plain": [
       "<IPython.core.display.Image object>"
      ]
     },
     "metadata": {},
     "output_type": "display_data"
    },
    {
     "name": "stdout",
     "output_type": "stream",
     "text": [
      "fu\n"
     ]
    },
    {
     "data": {
      "image/png": "[encoded data removed]",
      "text/plain": [
       "<IPython.core.display.Image object>"
      ]
     },
     "metadata": {},
     "output_type": "display_data"
    },
    {
     "name": "stdout",
     "output_type": "stream",
     "text": [
      "*to\n"
     ]
    },
    {
     "data": {
      "image/png": "[encoded data removed]",
      "text/plain": [
       "<IPython.core.display.Image object>"
      ]
     },
     "metadata": {},
     "output_type": "display_data"
    },
    {
     "name": "stdout",
     "output_type": "stream",
     "text": [
      "*to\n"
     ]
    },
    {
     "data": {
      "image/png": "[encoded data removed]",
      "text/plain": [
       "<IPython.core.display.Image object>"
      ]
     },
     "metadata": {},
     "output_type": "display_data"
    },
    {
     "name": "stdout",
     "output_type": "stream",
     "text": [
      "narigin\n"
     ]
    },
    {
     "data": {
      "image/png": "[encoded data removed]",
      "text/plain": [
       "<IPython.core.display.Image object>"
      ]
     },
     "metadata": {},
     "output_type": "display_data"
    },
    {
     "name": "stdout",
     "output_type": "stream",
     "text": [
      "*ou\n"
     ]
    },
    {
     "data": {
      "image/png": "[encoded data removed]",
      "text/plain": [
       "<IPython.core.display.Image object>"
      ]
     },
     "metadata": {},
     "output_type": "display_data"
    },
    {
     "name": "stdout",
     "output_type": "stream",
     "text": [
      "*gin\n"
     ]
    },
    {
     "data": {
      "image/png": "[encoded data removed]",
      "text/plain": [
       "<IPython.core.display.Image object>"
      ]
     },
     "metadata": {},
     "output_type": "display_data"
    },
    {
     "name": "stdout",
     "output_type": "stream",
     "text": [
      "*gin\n"
     ]
    },
    {
     "data": {
      "image/png": "[encoded data removed]",
      "text/plain": [
       "<IPython.core.display.Image object>"
      ]
     },
     "metadata": {},
     "output_type": "display_data"
    },
    {
     "name": "stdout",
     "output_type": "stream",
     "text": [
      "*gyoku\n"
     ]
    },
    {
     "data": {
      "image/png": "[encoded data removed]",
      "text/plain": [
       "<IPython.core.display.Image object>"
      ]
     },
     "metadata": {},
     "output_type": "display_data"
    },
    {
     "name": "stdout",
     "output_type": "stream",
     "text": [
      "*gin\n"
     ]
    },
    {
     "data": {
      "image/png": "[encoded data removed]",
      "text/plain": [
       "<IPython.core.display.Image object>"
      ]
     },
     "metadata": {},
     "output_type": "display_data"
    },
    {
     "name": "stdout",
     "output_type": "stream",
     "text": [
      "kin\n"
     ]
    },
    {
     "data": {
      "image/png": "[encoded data removed]",
      "text/plain": [
       "<IPython.core.display.Image object>"
      ]
     },
     "metadata": {},
     "output_type": "display_data"
    },
    {
     "name": "stdout",
     "output_type": "stream",
     "text": [
      "*narigin\n"
     ]
    },
    {
     "data": {
      "image/png": "[encoded data removed]",
      "text/plain": [
       "<IPython.core.display.Image object>"
      ]
     },
     "metadata": {},
     "output_type": "display_data"
    },
    {
     "name": "stdout",
     "output_type": "stream",
     "text": [
      "*ou\n"
     ]
    },
    {
     "data": {
      "image/png": "[encoded data removed]",
      "text/plain": [
       "<IPython.core.display.Image object>"
      ]
     },
     "metadata": {},
     "output_type": "display_data"
    },
    {
     "name": "stdout",
     "output_type": "stream",
     "text": [
      "ou\n"
     ]
    },
    {
     "data": {
      "image/png": "[encoded data removed]",
      "text/plain": [
       "<IPython.core.display.Image object>"
      ]
     },
     "metadata": {},
     "output_type": "display_data"
    },
    {
     "name": "stdout",
     "output_type": "stream",
     "text": [
      "gin\n"
     ]
    },
    {
     "data": {
      "image/png": "[encoded data removed]",
      "text/plain": [
       "<IPython.core.display.Image object>"
      ]
     },
     "metadata": {},
     "output_type": "display_data"
    },
    {
     "name": "stdout",
     "output_type": "stream",
     "text": [
      "*kaku\n"
     ]
    },
    {
     "data": {
      "image/png": "[encoded data removed]",
      "text/plain": [
       "<IPython.core.display.Image object>"
      ]
     },
     "metadata": {},
     "output_type": "display_data"
    },
    {
     "name": "stdout",
     "output_type": "stream",
     "text": [
      "narikei\n"
     ]
    },
    {
     "data": {
      "image/png": "[encoded data removed]",
      "text/plain": [
       "<IPython.core.display.Image object>"
      ]
     },
     "metadata": {},
     "output_type": "display_data"
    },
    {
     "name": "stdout",
     "output_type": "stream",
     "text": [
      "uma\n"
     ]
    },
    {
     "data": {
      "image/png": "[encoded data removed]",
      "text/plain": [
       "<IPython.core.display.Image object>"
      ]
     },
     "metadata": {},
     "output_type": "display_data"
    },
    {
     "name": "stdout",
     "output_type": "stream",
     "text": [
      "narikyo\n"
     ]
    },
    {
     "data": {
      "image/png": "[encoded data removed]",
      "text/plain": [
       "<IPython.core.display.Image object>"
      ]
     },
     "metadata": {},
     "output_type": "display_data"
    },
    {
     "name": "stdout",
     "output_type": "stream",
     "text": [
      "*ou\n"
     ]
    },
    {
     "data": {
      "image/png": "[encoded data removed]",
      "text/plain": [
       "<IPython.core.display.Image object>"
      ]
     },
     "metadata": {},
     "output_type": "display_data"
    },
    {
     "name": "stdout",
     "output_type": "stream",
     "text": [
      "kaku\n"
     ]
    },
    {
     "data": {
      "image/png": "[encoded data removed]",
      "text/plain": [
       "<IPython.core.display.Image object>"
      ]
     },
     "metadata": {},
     "output_type": "display_data"
    },
    {
     "name": "stdout",
     "output_type": "stream",
     "text": [
      "gyoku\n"
     ]
    },
    {
     "data": {
      "image/png": "[encoded data removed]",
      "text/plain": [
       "<IPython.core.display.Image object>"
      ]
     },
     "metadata": {},
     "output_type": "display_data"
    },
    {
     "name": "stdout",
     "output_type": "stream",
     "text": [
      "kin\n"
     ]
    },
    {
     "data": {
      "image/png": "[encoded data removed]",
      "text/plain": [
       "<IPython.core.display.Image object>"
      ]
     },
     "metadata": {},
     "output_type": "display_data"
    },
    {
     "name": "stdout",
     "output_type": "stream",
     "text": [
      "kyo\n"
     ]
    },
    {
     "data": {
      "image/png": "[encoded data removed]",
      "text/plain": [
       "<IPython.core.display.Image object>"
      ]
     },
     "metadata": {},
     "output_type": "display_data"
    },
    {
     "name": "stdout",
     "output_type": "stream",
     "text": [
      "narigin\n"
     ]
    },
    {
     "data": {
      "image/png": "[encoded data removed]",
      "text/plain": [
       "<IPython.core.display.Image object>"
      ]
     },
     "metadata": {},
     "output_type": "display_data"
    },
    {
     "name": "stdout",
     "output_type": "stream",
     "text": [
      "narikei\n"
     ]
    },
    {
     "data": {
      "image/png": "[encoded data removed]",
      "text/plain": [
       "<IPython.core.display.Image object>"
      ]
     },
     "metadata": {},
     "output_type": "display_data"
    },
    {
     "name": "stdout",
     "output_type": "stream",
     "text": [
      "*to\n"
     ]
    },
    {
     "data": {
      "image/png": "[encoded data removed]",
      "text/plain": [
       "<IPython.core.display.Image object>"
      ]
     },
     "metadata": {},
     "output_type": "display_data"
    },
    {
     "name": "stdout",
     "output_type": "stream",
     "text": [
      "fu\n"
     ]
    },
    {
     "data": {
      "image/png": "[encoded data removed]",
      "text/plain": [
       "<IPython.core.display.Image object>"
      ]
     },
     "metadata": {},
     "output_type": "display_data"
    },
    {
     "name": "stdout",
     "output_type": "stream",
     "text": [
      "kei\n"
     ]
    },
    {
     "data": {
      "image/png": "[encoded data removed]",
      "text/plain": [
       "<IPython.core.display.Image object>"
      ]
     },
     "metadata": {},
     "output_type": "display_data"
    },
    {
     "name": "stdout",
     "output_type": "stream",
     "text": [
      "fu\n"
     ]
    },
    {
     "data": {
      "image/png": "[encoded data removed]",
      "text/plain": [
       "<IPython.core.display.Image object>"
      ]
     },
     "metadata": {},
     "output_type": "display_data"
    },
    {
     "name": "stdout",
     "output_type": "stream",
     "text": [
      "*hi\n"
     ]
    },
    {
     "data": {
      "image/png": "[encoded data removed]",
      "text/plain": [
       "<IPython.core.display.Image object>"
      ]
     },
     "metadata": {},
     "output_type": "display_data"
    },
    {
     "name": "stdout",
     "output_type": "stream",
     "text": [
      "*ryu\n"
     ]
    }
   ],
   "source": [
    "for e in correct:\n",
    "    display_image(np.uint8(x_test[e] * 255)[:, :, 0])\n",
    "    if len(labels) > res[e]:\n",
    "        print(labels[res[e]])\n",
    "    elif len(labels) * 2 > res[e]:\n",
    "        print(\"*\" + labels[res[e] - len(labels)])\n",
    "    else:\n",
    "        print(\"　\")"
   ]
  },
  {
   "cell_type": "code",
   "execution_count": 27,
   "metadata": {
    "collapsed": true
   },
   "outputs": [],
   "source": []
  }
 ],
 "metadata": {
  "kernelspec": {
   "display_name": "Python 3",
   "language": "python",
   "name": "python3"
  },
  "language_info": {
   "codemirror_mode": {
    "name": "ipython",
    "version": 3
   },
   "file_extension": ".py",
   "mimetype": "text/x-python",
   "name": "python",
   "nbconvert_exporter": "python",
   "pygments_lexer": "ipython3",
   "version": "3.5.2"
  }
 },
 "nbformat": 4,
 "nbformat_minor": 2
}
