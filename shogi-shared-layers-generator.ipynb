{
 "cells": [
  {
   "cell_type": "code",
   "execution_count": 19,
   "metadata": {},
   "outputs": [],
   "source": [
    "import numpy as np\n",
    "import scipy.misc\n",
    "import glob\n",
    "import keras\n",
    "from keras import backend as K\n",
    "from keras.layers import Conv2D, MaxPooling2D, Input\n",
    "from keras.layers import Dense, Dropout, Flatten\n",
    "from keras.layers.merge import Concatenate\n",
    "from keras.models import Sequential, Model\n",
    "from keras.preprocessing.image import ImageDataGenerator\n",
    "from sklearn.model_selection import train_test_split\n",
    "\n",
    "labels = ['gyoku', 'ou', 'kin', 'gin', 'kei', 'kyo', 'kaku', 'hi', 'fu', 'narigin', 'narikei', 'narikyo', 'uma', 'ryu', 'to']\n",
    "num_classes = len(labels)\n",
    "\n",
    "# input image dimensions\n",
    "img_rows, img_cols = 48, 48\n",
    "input_shape = (img_rows, img_cols, 1)\n",
    "\n",
    "series_imgs = []\n",
    "series_labels = []\n",
    "for i, series in enumerate(glob.glob(\"data/*.npz\")):\n",
    "    file = np.load(series)\n",
    "    series_imgs.append(file['imgs'].astype(np.float32))\n",
    "    series_labels.append(file['labels'])\n",
    "num_series = len(series_imgs)"
   ]
  },
  {
   "cell_type": "code",
   "execution_count": 20,
   "metadata": {
    "scrolled": true
   },
   "outputs": [
    {
     "name": "stdout",
     "output_type": "stream",
     "text": [
      "____________________________________________________________________________________________________\n",
      "Layer (type)                     Output Shape          Param #     Connected to                     \n",
      "====================================================================================================\n",
      "input_16 (InputLayer)            (None, 48, 48, 1)     0                                            \n",
      "____________________________________________________________________________________________________\n",
      "input_17 (InputLayer)            (None, 48, 48, 1)     0                                            \n",
      "____________________________________________________________________________________________________\n",
      "input_18 (InputLayer)            (None, 48, 48, 1)     0                                            \n",
      "____________________________________________________________________________________________________\n",
      "input_19 (InputLayer)            (None, 48, 48, 1)     0                                            \n",
      "____________________________________________________________________________________________________\n",
      "input_20 (InputLayer)            (None, 48, 48, 1)     0                                            \n",
      "____________________________________________________________________________________________________\n",
      "input_21 (InputLayer)            (None, 48, 48, 1)     0                                            \n",
      "____________________________________________________________________________________________________\n",
      "model_5 (Model)                  (None, 5184)          64992       input_16[0][0]                   \n",
      "                                                                   input_17[0][0]                   \n",
      "                                                                   input_18[0][0]                   \n",
      "                                                                   input_19[0][0]                   \n",
      "                                                                   input_20[0][0]                   \n",
      "                                                                   input_21[0][0]                   \n",
      "____________________________________________________________________________________________________\n",
      "dense_15 (Dense)                 (None, 128)           663680      model_5[1][0]                    \n",
      "____________________________________________________________________________________________________\n",
      "dropout_9 (Dropout)              (None, 128)           0           dense_15[0][0]                   \n",
      "____________________________________________________________________________________________________\n",
      "dense_16 (Dense)                 (None, 3)             15555       model_5[2][0]                    \n",
      "____________________________________________________________________________________________________\n",
      "dense_17 (Dense)                 (None, 3)             15555       model_5[3][0]                    \n",
      "____________________________________________________________________________________________________\n",
      "dense_18 (Dense)                 (None, 3)             15555       model_5[4][0]                    \n",
      "____________________________________________________________________________________________________\n",
      "dense_19 (Dense)                 (None, 3)             15555       model_5[5][0]                    \n",
      "____________________________________________________________________________________________________\n",
      "dense_20 (Dense)                 (None, 3)             15555       model_5[6][0]                    \n",
      "____________________________________________________________________________________________________\n",
      "concatenate_3 (Concatenate)      (None, 143)           0           dropout_9[0][0]                  \n",
      "                                                                   dense_16[0][0]                   \n",
      "                                                                   dense_17[0][0]                   \n",
      "                                                                   dense_18[0][0]                   \n",
      "                                                                   dense_19[0][0]                   \n",
      "                                                                   dense_20[0][0]                   \n",
      "____________________________________________________________________________________________________\n",
      "dense_21 (Dense)                 (None, 15)            2160        concatenate_3[0][0]              \n",
      "====================================================================================================\n",
      "Total params: 808,607\n",
      "Trainable params: 808,607\n",
      "Non-trainable params: 0\n",
      "____________________________________________________________________________________________________\n"
     ]
    }
   ],
   "source": [
    "# conv module\n",
    "conv_in = Input(shape=input_shape)\n",
    "## first layer\n",
    "x = Conv2D(32, kernel_size=(3, 3), activation='relu', input_shape=input_shape)(conv_in)\n",
    "x = Conv2D(32, kernel_size=(3, 3), activation='relu', input_shape=input_shape)(x)\n",
    "x = MaxPooling2D(pool_size=(2, 2))(x)\n",
    "x = Dropout(0.5)(x)\n",
    "## second layer\n",
    "x = Conv2D(64, kernel_size=(3, 3), activation='relu', input_shape=input_shape)(x)\n",
    "x = Conv2D(64, kernel_size=(3, 3), activation='relu', input_shape=input_shape)(x)\n",
    "x = MaxPooling2D(pool_size=(2, 2))(x)\n",
    "x = Dropout(0.5)(x)\n",
    "conv_out = Flatten()(x)\n",
    "\n",
    "conv_model = Model(conv_in, conv_out)\n",
    "\n",
    "# main network\n",
    "main_input = Input(shape=input_shape)\n",
    "x = conv_model(main_input)\n",
    "x = Dense(256, activation='relu')(x)\n",
    "main_output = Dropout(0.5)(x)\n",
    "\n",
    "inputs = [main_input]\n",
    "outputs = [main_output]\n",
    "\n",
    "# hint network\n",
    "num_hint = 5\n",
    "for i in range(num_hint):\n",
    "    hint_input = Input(shape=input_shape)\n",
    "    x = conv_model(hint_input)\n",
    "    hint_output = Dense(8, activation='relu')(x)\n",
    "    inputs.append(hint_input)\n",
    "    outputs.append(hint_output)\n",
    "\n",
    "concatenated_neuron = Concatenate()(outputs)\n",
    "out = Dense(num_classes, activation='softmax')(concatenated_neuron)\n",
    "model = Model(inputs, out)\n",
    "model.summary()"
   ]
  },
  {
   "cell_type": "code",
   "execution_count": 21,
   "metadata": {
    "collapsed": true,
    "scrolled": false
   },
   "outputs": [],
   "source": [
    "# load all\n",
    "x_all = np.empty((0, img_rows, img_cols))\n",
    "y_all = np.empty((0, 2), np.int32)\n",
    "for i in range(num_series):\n",
    "    num_imgs = len(series_imgs[i])\n",
    "    x_all = np.r_[x_all, series_imgs[i]]\n",
    "    label_indices = []\n",
    "    for j, label in enumerate(series_labels[i]):\n",
    "        label_indices.append(labels.index(label))\n",
    "    label_and_series = np.c_[label_indices, np.full((num_imgs), i)]\n",
    "    y_all = np.r_[y_all, label_and_series]\n",
    "\n",
    "# reshape to TF\n",
    "x_all = x_all.reshape(x_all.shape[0], img_rows, img_cols, 1)\n",
    "x_all = x_all.astype(np.float32)\n",
    "x_all /= 255\n",
    "\n",
    "# series list\n",
    "x_all_series = []\n",
    "for i in range(num_series):\n",
    "    x_all_series.append(x_all[np.where(y_all[:, 1] == i)])\n",
    "\n",
    "x_train, x_test, y_series_train, y_series_test = train_test_split(x_all, y_all, test_size=0.1)\n",
    "\n",
    "gen_series = []\n",
    "for i in range(num_series):\n",
    "    g = ImageDataGenerator(rotation_range=15, zoom_range=0.25)\n",
    "    gen_series.append(g.flow(x_all_series[i], np.zeros((x_all_series[i].shape[0], 1)), batch_size=num_hint))\n",
    "def generate_hint(series):\n",
    "    hint_imgs, dummy = gen_series[series].next()\n",
    "    if hint_imgs.shape[0] < num_hint:\n",
    "        zero = np.zeros((num_hint - hint_imgs.shape[0], img_rows, img_cols, 1), np.float32)\n",
    "        hint_imgs = np.r_[hint_imgs, zero]\n",
    "        np.random.shuffle(hint_imgs)\n",
    "    return hint_imgs\n",
    "\n",
    "def data_generator_with_hint(x_batch, y_batch, x_all_series, batch_size=16):\n",
    "    datagen = ImageDataGenerator(rotation_range=15, zoom_range=0.25)\n",
    "    for x, y in datagen.flow(x_batch, y_batch, batch_size=batch_size):\n",
    "        labels = keras.utils.to_categorical(y[:, 0], num_classes)\n",
    "        series_ids = y[:, 1]\n",
    "        x_with_hint = []\n",
    "        for i, series_id in enumerate(series_ids):\n",
    "            hint_imgs = generate_hint(series_id)\n",
    "            x_with_hint.append(np.r_[[x[i]], hint_imgs])\n",
    "        yield_list = list(np.array(x_with_hint).swapaxes(1, 0))\n",
    "        yield (yield_list, labels)"
   ]
  },
  {
   "cell_type": "code",
   "execution_count": 22,
   "metadata": {
    "scrolled": false
   },
   "outputs": [
    {
     "name": "stdout",
     "output_type": "stream",
     "text": [
      "Epoch 1/20\n",
      "277/277 [==============================] - 16s - loss: 2.7109 - acc: 0.0713 - val_loss: 2.7117 - val_acc: 0.0600\n",
      "Epoch 2/20\n",
      "277/277 [==============================] - 15s - loss: 2.3437 - acc: 0.1942 - val_loss: 1.9624 - val_acc: 0.3600\n",
      "Epoch 3/20\n",
      "277/277 [==============================] - 15s - loss: 1.6811 - acc: 0.3933 - val_loss: 1.4909 - val_acc: 0.5400\n",
      "Epoch 4/20\n",
      "277/277 [==============================] - 15s - loss: 1.3205 - acc: 0.5222 - val_loss: 1.2279 - val_acc: 0.5800\n",
      "Epoch 5/20\n",
      "277/277 [==============================] - 15s - loss: 1.1133 - acc: 0.6024 - val_loss: 1.1177 - val_acc: 0.6600\n",
      "Epoch 6/20\n",
      "277/277 [==============================] - 15s - loss: 0.9441 - acc: 0.6664 - val_loss: 1.1172 - val_acc: 0.6000\n",
      "Epoch 7/20\n",
      "277/277 [==============================] - 15s - loss: 0.8429 - acc: 0.7019 - val_loss: 0.9970 - val_acc: 0.7000\n",
      "Epoch 8/20\n",
      "277/277 [==============================] - 15s - loss: 0.7252 - acc: 0.7418 - val_loss: 0.9488 - val_acc: 0.6400\n",
      "Epoch 9/20\n",
      "277/277 [==============================] - 15s - loss: 0.6590 - acc: 0.7648 - val_loss: 0.9457 - val_acc: 0.6200\n",
      "Epoch 10/20\n",
      "277/277 [==============================] - 15s - loss: 0.5897 - acc: 0.7933 - val_loss: 0.9138 - val_acc: 0.7000\n",
      "Epoch 11/20\n",
      "277/277 [==============================] - 15s - loss: 0.5158 - acc: 0.8151 - val_loss: 0.8849 - val_acc: 0.6800\n",
      "Epoch 12/20\n",
      "277/277 [==============================] - 15s - loss: 0.5069 - acc: 0.8190 - val_loss: 0.7224 - val_acc: 0.7600\n",
      "Epoch 13/20\n",
      "277/277 [==============================] - 15s - loss: 0.4625 - acc: 0.8281 - val_loss: 0.7676 - val_acc: 0.7800\n",
      "Epoch 14/20\n",
      "277/277 [==============================] - 15s - loss: 0.4040 - acc: 0.8566 - val_loss: 0.7924 - val_acc: 0.7400\n",
      "Epoch 15/20\n",
      "277/277 [==============================] - 15s - loss: 0.3892 - acc: 0.8579 - val_loss: 0.7054 - val_acc: 0.7400\n",
      "Epoch 16/20\n",
      "277/277 [==============================] - 15s - loss: 0.3640 - acc: 0.8695 - val_loss: 0.7256 - val_acc: 0.7600\n",
      "Epoch 17/20\n",
      "277/277 [==============================] - 15s - loss: 0.3442 - acc: 0.8725 - val_loss: 0.7757 - val_acc: 0.7800\n",
      "Epoch 18/20\n",
      "277/277 [==============================] - 15s - loss: 0.3382 - acc: 0.8787 - val_loss: 0.7571 - val_acc: 0.7600\n",
      "Epoch 19/20\n",
      "277/277 [==============================] - 15s - loss: 0.3166 - acc: 0.8859 - val_loss: 0.7113 - val_acc: 0.7800\n",
      "Epoch 20/20\n",
      "277/277 [==============================] - 15s - loss: 0.2830 - acc: 0.8981 - val_loss: 0.7674 - val_acc: 0.7600\n"
     ]
    },
    {
     "data": {
      "text/plain": [
       "<keras.callbacks.History at 0x7fbc0f7847b8>"
      ]
     },
     "execution_count": 22,
     "metadata": {},
     "output_type": "execute_result"
    }
   ],
   "source": [
    "x_test_with_hint = []\n",
    "for i, series_id in enumerate(y_series_test[:, 1]):\n",
    "    hint_imgs = generate_hint(series_id)\n",
    "    x_test_with_hint.append(np.r_[[x_test[i]], hint_imgs])\n",
    "x_test = list(np.array(x_test_with_hint).swapaxes(1, 0))\n",
    "y_test = keras.utils.to_categorical(y_series_test[:, 0], num_classes)\n",
    "\n",
    "model.compile(loss=keras.losses.categorical_crossentropy,\n",
    "              optimizer=keras.optimizers.Adadelta(),\n",
    "              metrics=['accuracy'])\n",
    "model.fit_generator(data_generator_with_hint(x_train, y_series_train, x_all_series, batch_size=16), steps_per_epoch=x_train.shape[0],\n",
    "#                     epochs=20, verbose=1)\n",
    "                    epochs=20, verbose=1, validation_data=(x_test, y_test))\n",
    "# score = model.evaluate(x_test_list, y_test, verbose=0)\n",
    "# print('Test loss:', score[0])\n",
    "# print('Test accuracy:', score[1])"
   ]
  },
  {
   "cell_type": "code",
   "execution_count": 23,
   "metadata": {},
   "outputs": [
    {
     "name": "stdout",
     "output_type": "stream",
     "text": [
      "[ 1  4  5  7 14  2 11  5  6  2  2  8  4  0 11  3 12 11  7 10  3  2  8  1  6\n",
      " 13 13  6  7 11  4 12 13  7  8 10  6  7 14  4  1  3  4  4  7  6  4 10  1  5]\n",
      "[ 1 13  5  7 14  2 11  5  6  2  8  8  4  0 11  3 12 11  7  9  3  2  8  0  6\n",
      "  5 13  6  7  5  4 12 13  5  8 10  6  7 14  4  0  3 12  4  7  6  6 11  3  5]\n",
      "[ 1 10 19 23 25 29 33 40 42 46 47 48]\n"
     ]
    }
   ],
   "source": [
    "pred_res = model.predict(x_test)\n",
    "res = np.array([np.argmax(r) for r in pred_res])\n",
    "ans = np.array([np.where(y == 1)[0][0] for y in y_test])\n",
    "print(res)\n",
    "print(ans)\n",
    "errors = np.where(res != ans)[0]\n",
    "print(errors)"
   ]
  },
  {
   "cell_type": "code",
   "execution_count": 24,
   "metadata": {
    "scrolled": false
   },
   "outputs": [
    {
     "data": {
      "image/png": "[encoded data removed]",
      "text/plain": [
       "<IPython.core.display.Image object>"
      ]
     },
     "metadata": {},
     "output_type": "display_data"
    },
    {
     "name": "stdout",
     "output_type": "stream",
     "text": [
      "kei\n"
     ]
    },
    {
     "data": {
      "image/png": "[encoded data removed]",
      "text/plain": [
       "<IPython.core.display.Image object>"
      ]
     },
     "metadata": {},
     "output_type": "display_data"
    },
    {
     "name": "stdout",
     "output_type": "stream",
     "text": [
      "kin\n"
     ]
    },
    {
     "data": {
      "image/png": "[encoded data removed]",
      "text/plain": [
       "<IPython.core.display.Image object>"
      ]
     },
     "metadata": {},
     "output_type": "display_data"
    },
    {
     "name": "stdout",
     "output_type": "stream",
     "text": [
      "narikei\n"
     ]
    },
    {
     "data": {
      "image/png": "[encoded data removed]",
      "text/plain": [
       "<IPython.core.display.Image object>"
      ]
     },
     "metadata": {},
     "output_type": "display_data"
    },
    {
     "name": "stdout",
     "output_type": "stream",
     "text": [
      "ou\n"
     ]
    },
    {
     "data": {
      "image/png": "[encoded data removed]",
      "text/plain": [
       "<IPython.core.display.Image object>"
      ]
     },
     "metadata": {},
     "output_type": "display_data"
    },
    {
     "name": "stdout",
     "output_type": "stream",
     "text": [
      "ryu\n"
     ]
    },
    {
     "data": {
      "image/png": "[encoded data removed]",
      "text/plain": [
       "<IPython.core.display.Image object>"
      ]
     },
     "metadata": {},
     "output_type": "display_data"
    },
    {
     "name": "stdout",
     "output_type": "stream",
     "text": [
      "narikyo\n"
     ]
    },
    {
     "data": {
      "image/png": "[encoded data removed]",
      "text/plain": [
       "<IPython.core.display.Image object>"
      ]
     },
     "metadata": {},
     "output_type": "display_data"
    },
    {
     "name": "stdout",
     "output_type": "stream",
     "text": [
      "hi\n"
     ]
    },
    {
     "data": {
      "image/png": "[encoded data removed]",
      "text/plain": [
       "<IPython.core.display.Image object>"
      ]
     },
     "metadata": {},
     "output_type": "display_data"
    },
    {
     "name": "stdout",
     "output_type": "stream",
     "text": [
      "ou\n"
     ]
    },
    {
     "data": {
      "image/png": "[encoded data removed]",
      "text/plain": [
       "<IPython.core.display.Image object>"
      ]
     },
     "metadata": {},
     "output_type": "display_data"
    },
    {
     "name": "stdout",
     "output_type": "stream",
     "text": [
      "kei\n"
     ]
    },
    {
     "data": {
      "image/png": "[encoded data removed]",
      "text/plain": [
       "<IPython.core.display.Image object>"
      ]
     },
     "metadata": {},
     "output_type": "display_data"
    },
    {
     "name": "stdout",
     "output_type": "stream",
     "text": [
      "kei\n"
     ]
    },
    {
     "data": {
      "image/png": "[encoded data removed]",
      "text/plain": [
       "<IPython.core.display.Image object>"
      ]
     },
     "metadata": {},
     "output_type": "display_data"
    },
    {
     "name": "stdout",
     "output_type": "stream",
     "text": [
      "narikei\n"
     ]
    },
    {
     "data": {
      "image/png": "[encoded data removed]",
      "text/plain": [
       "<IPython.core.display.Image object>"
      ]
     },
     "metadata": {},
     "output_type": "display_data"
    },
    {
     "name": "stdout",
     "output_type": "stream",
     "text": [
      "ou\n"
     ]
    }
   ],
   "source": [
    "from io import BytesIO\n",
    "from IPython import display\n",
    "from PIL import Image\n",
    "\n",
    "def display_image(arr):\n",
    "    b = BytesIO()\n",
    "    Image.fromarray(np.uint8(arr)).save(b, format='png')\n",
    "    data = b.getvalue()\n",
    "    display.display(display.Image(data=data, format='png', embed=True))\n",
    "\n",
    "for e in errors:\n",
    "    display_image(np.uint8(x_test[0][e] * 255)[:, :, 0])\n",
    "    if len(labels) > res[e]:\n",
    "        print(labels[res[e]])\n",
    "    else:\n",
    "        print(\"p\")\n",
    "        print(labels[res[e] - len(labels)])"
   ]
  },
  {
   "cell_type": "code",
   "execution_count": null,
   "metadata": {
    "collapsed": true
   },
   "outputs": [],
   "source": []
  }
 ],
 "metadata": {
  "kernelspec": {
   "display_name": "Python 3",
   "language": "python",
   "name": "python3"
  },
  "language_info": {
   "codemirror_mode": {
    "name": "ipython",
    "version": 3
   },
   "file_extension": ".py",
   "mimetype": "text/x-python",
   "name": "python",
   "nbconvert_exporter": "python",
   "pygments_lexer": "ipython3",
   "version": "3.5.3"
  }
 },
 "nbformat": 4,
 "nbformat_minor": 2
}
