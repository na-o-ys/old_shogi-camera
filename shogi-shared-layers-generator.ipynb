{
 "cells": [
  {
   "cell_type": "code",
   "execution_count": 7,
   "metadata": {},
   "outputs": [],
   "source": [
    "import numpy as np\n",
    "import scipy.misc\n",
    "import glob\n",
    "import keras\n",
    "from keras import backend as K\n",
    "from keras.layers import Conv2D, MaxPooling2D, Input\n",
    "from keras.layers import Dense, Dropout, Flatten\n",
    "from keras.layers.merge import Concatenate\n",
    "from keras.models import Sequential, Model\n",
    "from keras.preprocessing.image import ImageDataGenerator\n",
    "from sklearn.model_selection import train_test_split\n",
    "\n",
    "labels = ['gyoku', 'ou', 'kin', 'gin', 'kei', 'kyo', 'kaku', 'hi', 'fu', 'narigin', 'narikei', 'narikyo', 'uma', 'ryu', 'to']\n",
    "num_classes = len(labels)\n",
    "\n",
    "# input image dimensions\n",
    "img_rows, img_cols = 48, 48\n",
    "input_shape = (img_rows, img_cols, 1)\n",
    "\n",
    "series_imgs = []\n",
    "series_labels = []\n",
    "for i, series in enumerate(glob.glob(\"learn/*.npz\")):\n",
    "    file = np.load(series)\n",
    "    series_imgs.append(file['imgs'].astype(np.float32))\n",
    "    series_labels.append(file['labels'])\n",
    "num_series = len(series_imgs)"
   ]
  },
  {
   "cell_type": "code",
   "execution_count": 8,
   "metadata": {
    "scrolled": true
   },
   "outputs": [
    {
     "name": "stdout",
     "output_type": "stream",
     "text": [
      "____________________________________________________________________________________________________\n",
      "Layer (type)                     Output Shape          Param #     Connected to                     \n",
      "====================================================================================================\n",
      "input_9 (InputLayer)             (None, 48, 48, 1)     0                                            \n",
      "____________________________________________________________________________________________________\n",
      "input_10 (InputLayer)            (None, 48, 48, 1)     0                                            \n",
      "____________________________________________________________________________________________________\n",
      "input_11 (InputLayer)            (None, 48, 48, 1)     0                                            \n",
      "____________________________________________________________________________________________________\n",
      "input_12 (InputLayer)            (None, 48, 48, 1)     0                                            \n",
      "____________________________________________________________________________________________________\n",
      "input_13 (InputLayer)            (None, 48, 48, 1)     0                                            \n",
      "____________________________________________________________________________________________________\n",
      "input_14 (InputLayer)            (None, 48, 48, 1)     0                                            \n",
      "____________________________________________________________________________________________________\n",
      "model_3 (Model)                  (None, 5184)          64992       input_9[0][0]                    \n",
      "                                                                   input_10[0][0]                   \n",
      "                                                                   input_11[0][0]                   \n",
      "                                                                   input_12[0][0]                   \n",
      "                                                                   input_13[0][0]                   \n",
      "                                                                   input_14[0][0]                   \n",
      "____________________________________________________________________________________________________\n",
      "dense_8 (Dense)                  (None, 256)           1327360     model_3[1][0]                    \n",
      "____________________________________________________________________________________________________\n",
      "dropout_6 (Dropout)              (None, 256)           0           dense_8[0][0]                    \n",
      "____________________________________________________________________________________________________\n",
      "dense_9 (Dense)                  (None, 1)             5185        model_3[2][0]                    \n",
      "____________________________________________________________________________________________________\n",
      "dense_10 (Dense)                 (None, 1)             5185        model_3[3][0]                    \n",
      "____________________________________________________________________________________________________\n",
      "dense_11 (Dense)                 (None, 1)             5185        model_3[4][0]                    \n",
      "____________________________________________________________________________________________________\n",
      "dense_12 (Dense)                 (None, 1)             5185        model_3[5][0]                    \n",
      "____________________________________________________________________________________________________\n",
      "dense_13 (Dense)                 (None, 1)             5185        model_3[6][0]                    \n",
      "____________________________________________________________________________________________________\n",
      "concatenate_2 (Concatenate)      (None, 261)           0           dropout_6[0][0]                  \n",
      "                                                                   dense_9[0][0]                    \n",
      "                                                                   dense_10[0][0]                   \n",
      "                                                                   dense_11[0][0]                   \n",
      "                                                                   dense_12[0][0]                   \n",
      "                                                                   dense_13[0][0]                   \n",
      "____________________________________________________________________________________________________\n",
      "dense_14 (Dense)                 (None, 15)            3930        concatenate_2[0][0]              \n",
      "====================================================================================================\n",
      "Total params: 1,422,207\n",
      "Trainable params: 1,422,207\n",
      "Non-trainable params: 0\n",
      "____________________________________________________________________________________________________\n"
     ]
    }
   ],
   "source": [
    "# conv module\n",
    "conv_in = Input(shape=input_shape)\n",
    "## first layer\n",
    "x = Conv2D(32, kernel_size=(3, 3), activation='relu', input_shape=input_shape)(conv_in)\n",
    "x = Conv2D(32, kernel_size=(3, 3), activation='relu', input_shape=input_shape)(x)\n",
    "x = MaxPooling2D(pool_size=(2, 2))(x)\n",
    "x = Dropout(0.5)(x)\n",
    "## second layer\n",
    "x = Conv2D(64, kernel_size=(3, 3), activation='relu', input_shape=input_shape)(x)\n",
    "x = Conv2D(64, kernel_size=(3, 3), activation='relu', input_shape=input_shape)(x)\n",
    "x = MaxPooling2D(pool_size=(2, 2))(x)\n",
    "x = Dropout(0.5)(x)\n",
    "conv_out = Flatten()(x)\n",
    "\n",
    "conv_model = Model(conv_in, conv_out)\n",
    "\n",
    "# main network\n",
    "main_input = Input(shape=input_shape)\n",
    "x = conv_model(main_input)\n",
    "x = Dense(256, activation='relu')(x)\n",
    "main_output = Dropout(0.5)(x)\n",
    "\n",
    "inputs = [main_input]\n",
    "outputs = [main_output]\n",
    "\n",
    "# hint network\n",
    "num_hint = 5\n",
    "for i in range(num_hint):\n",
    "    hint_input = Input(shape=input_shape)\n",
    "    x = conv_model(hint_input)\n",
    "    hint_output = Dense(1, activation='relu')(x)\n",
    "    inputs.append(hint_input)\n",
    "    outputs.append(hint_output)\n",
    "\n",
    "concatenated_neuron = Concatenate()(outputs)\n",
    "out = Dense(num_classes, activation='softmax')(concatenated_neuron)\n",
    "model = Model(inputs, out)\n",
    "model.summary()"
   ]
  },
  {
   "cell_type": "code",
   "execution_count": 9,
   "metadata": {
    "scrolled": false
   },
   "outputs": [
    {
     "name": "stdout",
     "output_type": "stream",
     "text": [
      "(array([ 96,  97,  98,  99, 100, 101, 102, 103, 104, 105, 106, 107, 108,\n",
      "       109, 110]),)\n"
     ]
    }
   ],
   "source": [
    "# load all\n",
    "x_all = np.empty((0, img_rows, img_cols))\n",
    "y_all = np.empty((0, 2), np.int32)\n",
    "for i in range(num_series):\n",
    "    num_imgs = len(series_imgs[i])\n",
    "    x_all = np.r_[x_all, series_imgs[i]]\n",
    "    label_indices = []\n",
    "    for j, label in enumerate(series_labels[i]):\n",
    "        label_indices.append(labels.index(label))\n",
    "    label_and_series = np.c_[label_indices, np.full((num_imgs), i)]\n",
    "    y_all = np.r_[y_all, label_and_series]\n",
    "\n",
    "# reshape to TF\n",
    "x_all = x_all.reshape(x_all.shape[0], img_rows, img_cols, 1)\n",
    "x_all = x_all.astype(np.float32)\n",
    "x_all /= 255\n",
    "\n",
    "# series list\n",
    "x_all_series = []\n",
    "for i in range(num_series):\n",
    "    x_all_series.append(x_all[np.where(y_all[:, 1] == i)])\n",
    "\n",
    "train_ids = np.where(y_all[:, 1] != 8)\n",
    "test_ids = np.where(y_all[:, 1] == 8)\n",
    "x_train = x_all[train_ids]\n",
    "x_test = x_all[test_ids]\n",
    "y_series_train = y_all[train_ids]\n",
    "y_series_test = y_all[test_ids]\n",
    "print(test_ids)\n",
    "# x_train, x_test, y_series_train, y_series_test = train_test_split(x_all, y_all, test_size=0.1)\n",
    "\n",
    "gen_series = []\n",
    "for i in range(num_series):\n",
    "    g = ImageDataGenerator(rotation_range=15, zoom_range=0.25)\n",
    "    gen_series.append(g.flow(x_all_series[i], np.zeros((x_all_series[i].shape[0], 1)), batch_size=num_hint))\n",
    "def generate_hint(series):\n",
    "    hint_imgs, dummy = gen_series[series].next()\n",
    "    if hint_imgs.shape[0] < num_hint:\n",
    "        zero = np.zeros((num_hint - hint_imgs.shape[0], img_rows, img_cols, 1), np.float32)\n",
    "        hint_imgs = np.r_[hint_imgs, zero]\n",
    "        np.random.shuffle(hint_imgs)\n",
    "    return hint_imgs\n",
    "\n",
    "def data_generator_with_hint(x_batch, y_batch, x_all_series, batch_size=16):\n",
    "    datagen = ImageDataGenerator(rotation_range=15, zoom_range=0.25)\n",
    "    for x, y in datagen.flow(x_batch, y_batch, batch_size=batch_size):\n",
    "        labels = keras.utils.to_categorical(y[:, 0], num_classes)\n",
    "        series_ids = y[:, 1]\n",
    "        x_with_hint = []\n",
    "        for i, series_id in enumerate(series_ids):\n",
    "            hint_imgs = generate_hint(series_id)\n",
    "            x_with_hint.append(np.r_[[x[i]], hint_imgs])\n",
    "        yield_list = list(np.array(x_with_hint).swapaxes(1, 0))\n",
    "        yield (yield_list, labels)"
   ]
  },
  {
   "cell_type": "code",
   "execution_count": 10,
   "metadata": {
    "scrolled": false
   },
   "outputs": [
    {
     "name": "stdout",
     "output_type": "stream",
     "text": [
      "Epoch 1/20\n",
      "326/326 [==============================] - 19s - loss: 2.5238 - acc: 0.1334 - val_loss: 1.9503 - val_acc: 0.3333\n",
      "Epoch 2/20\n",
      "326/326 [==============================] - 18s - loss: 1.5872 - acc: 0.4434 - val_loss: 1.1503 - val_acc: 0.6667\n",
      "Epoch 3/20\n",
      "326/326 [==============================] - 18s - loss: 1.0891 - acc: 0.6090 - val_loss: 0.8036 - val_acc: 0.8667\n",
      "Epoch 4/20\n",
      "326/326 [==============================] - 18s - loss: 0.8013 - acc: 0.7127 - val_loss: 0.5480 - val_acc: 0.8667\n",
      "Epoch 5/20\n",
      "326/326 [==============================] - 18s - loss: 0.6097 - acc: 0.7789 - val_loss: 0.4157 - val_acc: 0.8667\n",
      "Epoch 6/20\n",
      "326/326 [==============================] - 18s - loss: 0.5371 - acc: 0.8085 - val_loss: 0.4103 - val_acc: 0.8667\n",
      "Epoch 7/20\n",
      "326/326 [==============================] - 18s - loss: 0.4160 - acc: 0.8475 - val_loss: 0.3275 - val_acc: 0.9333\n",
      "Epoch 8/20\n",
      "326/326 [==============================] - 18s - loss: 0.3391 - acc: 0.8788 - val_loss: 0.4708 - val_acc: 0.8667\n",
      "Epoch 9/20\n",
      "326/326 [==============================] - 18s - loss: 0.3101 - acc: 0.8890 - val_loss: 0.1573 - val_acc: 1.0000\n",
      "Epoch 10/20\n",
      "326/326 [==============================] - 18s - loss: 0.2708 - acc: 0.9083 - val_loss: 0.2398 - val_acc: 0.8667\n",
      "Epoch 11/20\n",
      "326/326 [==============================] - 18s - loss: 0.2300 - acc: 0.9164 - val_loss: 0.3033 - val_acc: 0.8000\n",
      "Epoch 12/20\n",
      "326/326 [==============================] - 18s - loss: 0.2105 - acc: 0.9230 - val_loss: 0.2439 - val_acc: 0.8667\n",
      "Epoch 13/20\n",
      "326/326 [==============================] - 18s - loss: 0.1960 - acc: 0.9335 - val_loss: 0.2239 - val_acc: 0.9333\n",
      "Epoch 14/20\n",
      "326/326 [==============================] - 18s - loss: 0.1830 - acc: 0.9358 - val_loss: 0.2244 - val_acc: 0.9333\n",
      "Epoch 15/20\n",
      "326/326 [==============================] - 18s - loss: 0.1634 - acc: 0.9454 - val_loss: 0.1230 - val_acc: 0.9333\n",
      "Epoch 16/20\n",
      "326/326 [==============================] - 18s - loss: 0.1580 - acc: 0.9479 - val_loss: 0.1306 - val_acc: 0.9333\n",
      "Epoch 17/20\n",
      "326/326 [==============================] - 18s - loss: 0.1369 - acc: 0.9506 - val_loss: 0.1424 - val_acc: 0.9333\n",
      "Epoch 18/20\n",
      "326/326 [==============================] - 18s - loss: 0.1386 - acc: 0.9545 - val_loss: 0.1520 - val_acc: 0.9333\n",
      "Epoch 19/20\n",
      "326/326 [==============================] - 18s - loss: 0.1377 - acc: 0.9518 - val_loss: 0.1093 - val_acc: 0.9333\n",
      "Epoch 20/20\n",
      "326/326 [==============================] - 18s - loss: 0.1216 - acc: 0.9581 - val_loss: 0.2431 - val_acc: 0.9333\n"
     ]
    },
    {
     "data": {
      "text/plain": [
       "<keras.callbacks.History at 0x7f5c265e87f0>"
      ]
     },
     "execution_count": 10,
     "metadata": {},
     "output_type": "execute_result"
    }
   ],
   "source": [
    "x_test_with_hint = []\n",
    "for i, series_id in enumerate(y_series_test[:, 1]):\n",
    "    hint_imgs = generate_hint(series_id)\n",
    "    x_test_with_hint.append(np.r_[[x_test[i]], hint_imgs])\n",
    "x_test_with_hint = list(np.array(x_test_with_hint).swapaxes(1, 0))\n",
    "y_test = keras.utils.to_categorical(y_series_test[:, 0], num_classes)\n",
    "\n",
    "model.compile(loss=keras.losses.categorical_crossentropy,\n",
    "              optimizer=keras.optimizers.Adadelta(),\n",
    "              metrics=['accuracy'])\n",
    "model.fit_generator(data_generator_with_hint(x_train, y_series_train, x_all_series, batch_size=16), steps_per_epoch=x_train.shape[0],\n",
    "#                     epochs=20, verbose=1)\n",
    "                    epochs=20, verbose=1, validation_data=(x_test_with_hint, y_test))\n",
    "# score = model.evaluate(x_test_list, y_test, verbose=0)\n",
    "# print('Test loss:', score[0])\n",
    "# print('Test accuracy:', score[1])"
   ]
  },
  {
   "cell_type": "code",
   "execution_count": 11,
   "metadata": {},
   "outputs": [
    {
     "name": "stdout",
     "output_type": "stream",
     "text": [
      "[ 0  1  2  3  4  5  6  7  8  9 10 14 12 13 14]\n",
      "[ 0  1  2  3  4  5  6  7  8  9 10 11 12 13 14]\n",
      "[11]\n"
     ]
    }
   ],
   "source": [
    "pred_res = model.predict(x_test_with_hint)\n",
    "res = np.array([np.argmax(r) for r in pred_res])\n",
    "ans = np.array([np.where(y == 1)[0][0] for y in y_test])\n",
    "print(res)\n",
    "print(ans)\n",
    "errors = np.where(res != ans)[0]\n",
    "print(errors)"
   ]
  },
  {
   "cell_type": "code",
   "execution_count": 12,
   "metadata": {
    "scrolled": false
   },
   "outputs": [
    {
     "data": {
      "image/png": "[encoded data removed]",
      "text/plain": [
       "<IPython.core.display.Image object>"
      ]
     },
     "metadata": {},
     "output_type": "display_data"
    },
    {
     "name": "stdout",
     "output_type": "stream",
     "text": [
      "to\n"
     ]
    }
   ],
   "source": [
    "from io import BytesIO\n",
    "from IPython import display\n",
    "from PIL import Image\n",
    "\n",
    "def display_image(arr):\n",
    "    b = BytesIO()\n",
    "    Image.fromarray(np.uint8(arr)).save(b, format='png')\n",
    "    data = b.getvalue()\n",
    "    display.display(display.Image(data=data, format='png', embed=True))\n",
    "\n",
    "for e in errors:\n",
    "    display_image(np.uint8(x_test_with_hint[0][e] * 255)[:, :, 0])\n",
    "    if len(labels) > res[e]:\n",
    "        print(labels[res[e]])\n",
    "    else:\n",
    "        print(\"p\")\n",
    "        print(labels[res[e] - len(labels)])"
   ]
  },
  {
   "cell_type": "code",
   "execution_count": null,
   "metadata": {
    "collapsed": true
   },
   "outputs": [],
   "source": []
  }
 ],
 "metadata": {
  "kernelspec": {
   "display_name": "Python 3",
   "language": "python",
   "name": "python3"
  },
  "language_info": {
   "codemirror_mode": {
    "name": "ipython",
    "version": 3
   },
   "file_extension": ".py",
   "mimetype": "text/x-python",
   "name": "python",
   "nbconvert_exporter": "python",
   "pygments_lexer": "ipython3",
   "version": "3.5.3"
  }
 },
 "nbformat": 4,
 "nbformat_minor": 2
}
