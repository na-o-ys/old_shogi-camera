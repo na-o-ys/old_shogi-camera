{
 "cells": [
  {
   "cell_type": "code",
   "execution_count": 54,
   "metadata": {
    "scrolled": true
   },
   "outputs": [
    {
     "name": "stdout",
     "output_type": "stream",
     "text": [
      "learn/21.npz\n",
      "learn/17.npz\n",
      "learn/08.npz\n",
      "learn/09.npz\n",
      "learn/24.npz\n",
      "learn/18.npz\n",
      "learn/06.npz\n",
      "learn/12.npz\n",
      "learn/05.npz\n",
      "learn/16.npz\n",
      "learn/23.npz\n",
      "learn/10.npz\n",
      "learn/01.npz\n",
      "learn/03.npz\n",
      "learn/04.npz\n",
      "learn/14.npz\n",
      "learn/22.npz\n",
      "learn/15.npz\n",
      "learn/20.npz\n",
      "learn/13.npz\n",
      "learn/26.npz\n",
      "learn/27.npz\n",
      "learn/25.npz\n",
      "learn/19.npz\n",
      "learn/07.npz\n",
      "learn/11.npz\n",
      "learn/02.npz\n",
      "learn/00.npz\n"
     ]
    }
   ],
   "source": [
    "import numpy as np\n",
    "import scipy.misc\n",
    "import glob\n",
    "import keras\n",
    "from keras import backend as K\n",
    "from keras.layers import Conv2D, MaxPooling2D, Input\n",
    "from keras.layers import Dense, Dropout, Flatten\n",
    "from keras.layers.merge import Concatenate\n",
    "from keras.models import Sequential, Model\n",
    "from keras.preprocessing.image import ImageDataGenerator\n",
    "from sklearn.model_selection import train_test_split\n",
    "from io import BytesIO\n",
    "from IPython import display\n",
    "from PIL import Image\n",
    "\n",
    "def display_image(arr):\n",
    "    b = BytesIO()\n",
    "    Image.fromarray(np.uint8(arr)).save(b, format='png')\n",
    "    data = b.getvalue()\n",
    "    display.display(display.Image(data=data, format='png', embed=True))\n",
    "\n",
    "labels = ['gyoku', 'ou', 'kin', 'gin', 'kei', 'kyo', 'kaku', 'hi', 'fu', 'narigin', 'narikei', 'narikyo', 'uma', 'ryu', 'to']\n",
    "num_classes = len(labels) * 2 + 1\n",
    "\n",
    "# input image dimensions\n",
    "img_rows, img_cols = 64, 64\n",
    "input_shape = (img_rows, img_cols, 1)\n",
    "\n",
    "series_imgs = []\n",
    "series_labels = []\n",
    "for i, series in enumerate(glob.glob(\"learn/*.npz\")):\n",
    "    file = np.load(series)\n",
    "    print(series)\n",
    "    series_imgs.append(file['imgs'].astype(np.float32))\n",
    "    series_labels.append(file['labels'])\n",
    "num_series = len(series_imgs)"
   ]
  },
  {
   "cell_type": "code",
   "execution_count": 55,
   "metadata": {},
   "outputs": [
    {
     "name": "stdout",
     "output_type": "stream",
     "text": [
      "(790, 64, 64)\n",
      "(790, 2)\n"
     ]
    }
   ],
   "source": [
    "# load all\n",
    "x_all = np.empty((0, img_rows, img_cols))\n",
    "y_all = np.empty((0, 2), np.int32)\n",
    "for i in range(num_series):\n",
    "    num_imgs = len(series_imgs[i])\n",
    "    x_all = np.r_[x_all, series_imgs[i]]\n",
    "    label_indices = []\n",
    "    for j, label in enumerate(series_labels[i]):\n",
    "        label_indices.append(labels.index(label))\n",
    "    label_and_series = np.c_[label_indices, np.full((num_imgs), i)]\n",
    "    y_all = np.r_[y_all, label_and_series]\n",
    "\n",
    "# rot 180\n",
    "x_all = np.r_[x_all, np.rot90(x_all, 2, (1, 2))]\n",
    "y_rot = np.copy(y_all)\n",
    "y_rot[:, 0] += len(labels)\n",
    "y_all = np.r_[y_all, y_rot]\n",
    "\n",
    "# space\n",
    "space_imgs = np.load('learn/space/space.npz')['imgs'].astype(np.float32)\n",
    "x_all = np.r_[x_all, space_imgs]\n",
    "y_space = np.full((len(space_imgs), 2), [len(labels) * 2, num_series])\n",
    "y_all = np.r_[y_all, y_space]\n",
    "\n",
    "print(x_all.shape)\n",
    "print(y_all.shape)\n",
    "\n",
    "# reshape to TF\n",
    "x_all = x_all.reshape(x_all.shape[0], img_rows, img_cols, 1)\n",
    "x_all = x_all.astype(np.float32)\n",
    "x_all /= 255"
   ]
  },
  {
   "cell_type": "code",
   "execution_count": 56,
   "metadata": {
    "collapsed": true
   },
   "outputs": [],
   "source": [
    "x_train, x_test, y_train, y_test = train_test_split(x_all, y_all, test_size=0.06)\n",
    "\n",
    "# train_ids = np.where(y_all[:, 1] != 20)\n",
    "# test_ids = np.where(y_all[:, 1] == 20)\n",
    "# x_train = x_all[train_ids]\n",
    "# x_test = x_all[test_ids]\n",
    "# y_train = y_all[train_ids]\n",
    "# y_test = y_all[test_ids]\n",
    "# print(test_ids)\n",
    "# display_image(np.uint8(x_test[0] * 255)[:, :, 0])\n",
    "\n",
    "# convert class vectors to binary class matrices\n",
    "y_train = keras.utils.to_categorical(y_train[:, 0], num_classes)\n",
    "y_test = keras.utils.to_categorical(y_test[:, 0], num_classes)"
   ]
  },
  {
   "cell_type": "code",
   "execution_count": 57,
   "metadata": {
    "scrolled": true
   },
   "outputs": [
    {
     "name": "stdout",
     "output_type": "stream",
     "text": [
      "_________________________________________________________________\n",
      "Layer (type)                 Output Shape              Param #   \n",
      "=================================================================\n",
      "conv2d_16 (Conv2D)           (None, 62, 62, 32)        320       \n",
      "_________________________________________________________________\n",
      "max_pooling2d_16 (MaxPooling (None, 31, 31, 32)        0         \n",
      "_________________________________________________________________\n",
      "dropout_26 (Dropout)         (None, 31, 31, 32)        0         \n",
      "_________________________________________________________________\n",
      "conv2d_17 (Conv2D)           (None, 29, 29, 64)        18496     \n",
      "_________________________________________________________________\n",
      "max_pooling2d_17 (MaxPooling (None, 14, 14, 64)        0         \n",
      "_________________________________________________________________\n",
      "dropout_27 (Dropout)         (None, 14, 14, 64)        0         \n",
      "_________________________________________________________________\n",
      "conv2d_18 (Conv2D)           (None, 12, 12, 128)       73856     \n",
      "_________________________________________________________________\n",
      "max_pooling2d_18 (MaxPooling (None, 6, 6, 128)         0         \n",
      "_________________________________________________________________\n",
      "dropout_28 (Dropout)         (None, 6, 6, 128)         0         \n",
      "_________________________________________________________________\n",
      "flatten_6 (Flatten)          (None, 4608)              0         \n",
      "_________________________________________________________________\n",
      "dense_16 (Dense)             (None, 256)               1179904   \n",
      "_________________________________________________________________\n",
      "dropout_29 (Dropout)         (None, 256)               0         \n",
      "_________________________________________________________________\n",
      "dense_17 (Dense)             (None, 256)               65792     \n",
      "_________________________________________________________________\n",
      "dropout_30 (Dropout)         (None, 256)               0         \n",
      "_________________________________________________________________\n",
      "dense_18 (Dense)             (None, 31)                7967      \n",
      "=================================================================\n",
      "Total params: 1,346,335\n",
      "Trainable params: 1,346,335\n",
      "Non-trainable params: 0\n",
      "_________________________________________________________________\n"
     ]
    }
   ],
   "source": [
    "datagen = ImageDataGenerator(rotation_range=15, zoom_range=0.25)\n",
    "datagen.fit(x_train)\n",
    "\n",
    "model = Sequential()\n",
    "model.add(Conv2D(32, kernel_size=(3, 3), activation='relu', input_shape=input_shape))\n",
    "model.add(MaxPooling2D(pool_size=(2, 2)))\n",
    "model.add(Dropout(0.2))\n",
    "\n",
    "model.add(Conv2D(64, kernel_size=(3, 3), activation='relu', input_shape=input_shape))\n",
    "model.add(MaxPooling2D(pool_size=(2, 2)))\n",
    "model.add(Dropout(0.3))\n",
    "\n",
    "model.add(Conv2D(128, kernel_size=(3, 3), activation='relu', input_shape=input_shape))\n",
    "model.add(MaxPooling2D(pool_size=(2, 2)))\n",
    "model.add(Dropout(0.4))\n",
    "\n",
    "model.add(Flatten())\n",
    "model.add(Dense(256, activation='relu'))\n",
    "model.add(Dropout(0.5))\n",
    "model.add(Dense(256, activation='relu'))\n",
    "model.add(Dropout(0.5))\n",
    "model.add(Dense(num_classes, activation='softmax'))\n",
    "\n",
    "model.summary()"
   ]
  },
  {
   "cell_type": "code",
   "execution_count": 58,
   "metadata": {
    "scrolled": true
   },
   "outputs": [
    {
     "name": "stdout",
     "output_type": "stream",
     "text": [
      "Epoch 1/80\n",
      "742/742 [==============================] - 11s - loss: 3.2863 - acc: 0.0618 - val_loss: 2.6109 - val_acc: 0.1667\n",
      "Epoch 2/80\n",
      "742/742 [==============================] - 11s - loss: 2.5389 - acc: 0.2127 - val_loss: 1.7557 - val_acc: 0.3958\n",
      "Epoch 3/80\n",
      "742/742 [==============================] - 11s - loss: 1.9927 - acc: 0.3412 - val_loss: 1.2612 - val_acc: 0.6667\n",
      "Epoch 4/80\n",
      "742/742 [==============================] - 11s - loss: 1.5908 - acc: 0.4541 - val_loss: 0.8900 - val_acc: 0.6875\n",
      "Epoch 5/80\n",
      "742/742 [==============================] - 11s - loss: 1.3044 - acc: 0.5471 - val_loss: 0.6649 - val_acc: 0.7500\n",
      "Epoch 6/80\n",
      "742/742 [==============================] - 11s - loss: 1.0877 - acc: 0.6133 - val_loss: 0.5177 - val_acc: 0.7917\n",
      "Epoch 7/80\n",
      "742/742 [==============================] - 11s - loss: 0.8913 - acc: 0.6834 - val_loss: 0.3865 - val_acc: 0.8750\n",
      "Epoch 8/80\n",
      "742/742 [==============================] - 11s - loss: 0.7655 - acc: 0.7233 - val_loss: 0.3806 - val_acc: 0.8125\n",
      "Epoch 9/80\n",
      "742/742 [==============================] - 11s - loss: 0.6639 - acc: 0.7583 - val_loss: 0.3431 - val_acc: 0.8333\n",
      "Epoch 10/80\n",
      "742/742 [==============================] - 11s - loss: 0.5701 - acc: 0.7901 - val_loss: 0.3090 - val_acc: 0.8333\n",
      "Epoch 11/80\n",
      "742/742 [==============================] - 11s - loss: 0.5094 - acc: 0.8132 - val_loss: 0.2849 - val_acc: 0.8333\n",
      "Epoch 12/80\n",
      "742/742 [==============================] - 11s - loss: 0.4671 - acc: 0.8255 - val_loss: 0.2976 - val_acc: 0.8542\n",
      "Epoch 13/80\n",
      "742/742 [==============================] - 11s - loss: 0.4308 - acc: 0.8413 - val_loss: 0.3026 - val_acc: 0.8750\n",
      "Epoch 14/80\n",
      "742/742 [==============================] - 11s - loss: 0.3811 - acc: 0.8596 - val_loss: 0.2982 - val_acc: 0.8750\n",
      "Epoch 15/80\n",
      "742/742 [==============================] - 11s - loss: 0.3663 - acc: 0.8621 - val_loss: 0.2916 - val_acc: 0.8542\n",
      "Epoch 16/80\n",
      "742/742 [==============================] - 11s - loss: 0.3384 - acc: 0.8766 - val_loss: 0.2778 - val_acc: 0.8750\n",
      "Epoch 17/80\n",
      "742/742 [==============================] - 11s - loss: 0.3117 - acc: 0.8843 - val_loss: 0.3029 - val_acc: 0.8750\n",
      "Epoch 18/80\n",
      "742/742 [==============================] - 11s - loss: 0.2966 - acc: 0.8915 - val_loss: 0.2820 - val_acc: 0.8750\n",
      "Epoch 19/80\n",
      "742/742 [==============================] - 11s - loss: 0.2829 - acc: 0.8961 - val_loss: 0.2876 - val_acc: 0.8750\n",
      "Epoch 20/80\n",
      "742/742 [==============================] - 11s - loss: 0.2634 - acc: 0.9055 - val_loss: 0.2854 - val_acc: 0.8958\n",
      "Epoch 21/80\n",
      "742/742 [==============================] - 11s - loss: 0.2411 - acc: 0.9150 - val_loss: 0.2955 - val_acc: 0.8542\n",
      "Epoch 22/80\n",
      "742/742 [==============================] - 11s - loss: 0.2336 - acc: 0.9173 - val_loss: 0.2339 - val_acc: 0.8958\n",
      "Epoch 23/80\n",
      "742/742 [==============================] - 11s - loss: 0.2293 - acc: 0.9206 - val_loss: 0.2542 - val_acc: 0.8750\n",
      "Epoch 24/80\n",
      "742/742 [==============================] - 11s - loss: 0.2081 - acc: 0.9293 - val_loss: 0.2316 - val_acc: 0.8958\n",
      "Epoch 25/80\n",
      "742/742 [==============================] - 11s - loss: 0.2028 - acc: 0.9275 - val_loss: 0.2503 - val_acc: 0.8750\n",
      "Epoch 26/80\n",
      "742/742 [==============================] - 11s - loss: 0.1959 - acc: 0.9319 - val_loss: 0.2191 - val_acc: 0.8958\n",
      "Epoch 27/80\n",
      "742/742 [==============================] - 11s - loss: 0.1797 - acc: 0.9382 - val_loss: 0.2275 - val_acc: 0.8958\n",
      "Epoch 28/80\n",
      "742/742 [==============================] - 11s - loss: 0.1852 - acc: 0.9379 - val_loss: 0.2838 - val_acc: 0.8958\n",
      "Epoch 29/80\n",
      "742/742 [==============================] - 11s - loss: 0.1830 - acc: 0.9372 - val_loss: 0.1944 - val_acc: 0.8958\n",
      "Epoch 30/80\n",
      "742/742 [==============================] - 11s - loss: 0.1737 - acc: 0.9417 - val_loss: 0.2387 - val_acc: 0.9167\n",
      "Epoch 31/80\n",
      "742/742 [==============================] - 11s - loss: 0.1606 - acc: 0.9445 - val_loss: 0.2258 - val_acc: 0.9167\n",
      "Epoch 32/80\n",
      "742/742 [==============================] - 11s - loss: 0.1526 - acc: 0.9475 - val_loss: 0.2165 - val_acc: 0.9167\n",
      "Epoch 33/80\n",
      "742/742 [==============================] - 11s - loss: 0.1519 - acc: 0.9495 - val_loss: 0.2044 - val_acc: 0.9167\n",
      "Epoch 34/80\n",
      "742/742 [==============================] - 11s - loss: 0.1503 - acc: 0.9492 - val_loss: 0.1473 - val_acc: 0.9375\n",
      "Epoch 35/80\n",
      "742/742 [==============================] - 11s - loss: 0.1456 - acc: 0.9529 - val_loss: 0.1724 - val_acc: 0.9167\n",
      "Epoch 36/80\n",
      "742/742 [==============================] - 11s - loss: 0.1489 - acc: 0.9504 - val_loss: 0.2207 - val_acc: 0.9375\n",
      "Epoch 37/80\n",
      "742/742 [==============================] - 11s - loss: 0.1257 - acc: 0.9578 - val_loss: 0.1809 - val_acc: 0.9167\n",
      "Epoch 38/80\n",
      "742/742 [==============================] - 11s - loss: 0.1482 - acc: 0.9511 - val_loss: 0.2342 - val_acc: 0.9375\n",
      "Epoch 39/80\n",
      "742/742 [==============================] - 11s - loss: 0.1356 - acc: 0.9544 - val_loss: 0.2321 - val_acc: 0.8958\n",
      "Epoch 40/80\n",
      "742/742 [==============================] - 11s - loss: 0.1280 - acc: 0.9585 - val_loss: 0.2405 - val_acc: 0.9375\n",
      "Epoch 41/80\n",
      "742/742 [==============================] - 11s - loss: 0.1243 - acc: 0.9598 - val_loss: 0.1852 - val_acc: 0.9167\n",
      "Epoch 42/80\n",
      "742/742 [==============================] - 11s - loss: 0.1248 - acc: 0.9583 - val_loss: 0.1907 - val_acc: 0.9167\n",
      "Epoch 43/80\n",
      "742/742 [==============================] - 11s - loss: 0.1271 - acc: 0.9580 - val_loss: 0.2039 - val_acc: 0.9167\n",
      "Epoch 44/80\n",
      "742/742 [==============================] - 11s - loss: 0.1252 - acc: 0.9618 - val_loss: 0.2165 - val_acc: 0.8958\n",
      "Epoch 45/80\n",
      "742/742 [==============================] - 11s - loss: 0.1254 - acc: 0.9613 - val_loss: 0.1989 - val_acc: 0.8958\n",
      "Epoch 46/80\n",
      "742/742 [==============================] - 11s - loss: 0.1308 - acc: 0.9592 - val_loss: 0.2342 - val_acc: 0.9167\n",
      "Epoch 47/80\n",
      "742/742 [==============================] - 11s - loss: 0.1208 - acc: 0.9635 - val_loss: 0.2713 - val_acc: 0.9167\n",
      "Epoch 48/80\n",
      "742/742 [==============================] - 11s - loss: 0.1169 - acc: 0.9639 - val_loss: 0.1970 - val_acc: 0.9167\n",
      "Epoch 49/80\n",
      "742/742 [==============================] - 11s - loss: 0.1262 - acc: 0.9610 - val_loss: 0.1803 - val_acc: 0.9583\n",
      "Epoch 50/80\n",
      "742/742 [==============================] - 11s - loss: 0.1162 - acc: 0.9632 - val_loss: 0.1924 - val_acc: 0.9792\n",
      "Epoch 51/80\n",
      "742/742 [==============================] - 11s - loss: 0.1123 - acc: 0.9658 - val_loss: 0.2155 - val_acc: 0.9375\n",
      "Epoch 52/80\n",
      "742/742 [==============================] - 11s - loss: 0.1109 - acc: 0.9647 - val_loss: 0.1976 - val_acc: 0.9167\n",
      "Epoch 53/80\n",
      "742/742 [==============================] - 11s - loss: 0.1117 - acc: 0.9664 - val_loss: 0.1564 - val_acc: 0.9375\n",
      "Epoch 54/80\n",
      "742/742 [==============================] - 11s - loss: 0.1177 - acc: 0.9621 - val_loss: 0.2223 - val_acc: 0.9375\n",
      "Epoch 55/80\n",
      "742/742 [==============================] - 11s - loss: 0.1110 - acc: 0.9661 - val_loss: 0.1869 - val_acc: 0.9167\n",
      "Epoch 56/80\n",
      "742/742 [==============================] - 11s - loss: 0.1177 - acc: 0.9635 - val_loss: 0.2193 - val_acc: 0.9167\n",
      "Epoch 57/80\n",
      "742/742 [==============================] - 11s - loss: 0.1084 - acc: 0.9686 - val_loss: 0.1935 - val_acc: 0.9375\n",
      "Epoch 58/80\n",
      "742/742 [==============================] - 11s - loss: 0.1142 - acc: 0.9670 - val_loss: 0.1735 - val_acc: 0.9167\n",
      "Epoch 59/80\n",
      "742/742 [==============================] - 11s - loss: 0.1057 - acc: 0.9669 - val_loss: 0.1807 - val_acc: 0.9375\n",
      "Epoch 60/80\n",
      "742/742 [==============================] - 11s - loss: 0.1141 - acc: 0.9673 - val_loss: 0.1618 - val_acc: 0.9375\n",
      "Epoch 61/80\n",
      "742/742 [==============================] - 11s - loss: 0.0958 - acc: 0.9696 - val_loss: 0.1403 - val_acc: 0.9167\n",
      "Epoch 62/80\n",
      "742/742 [==============================] - 11s - loss: 0.1084 - acc: 0.9648 - val_loss: 0.1445 - val_acc: 0.9375\n",
      "Epoch 63/80\n",
      "742/742 [==============================] - 11s - loss: 0.1042 - acc: 0.9677 - val_loss: 0.1592 - val_acc: 0.9583\n",
      "Epoch 64/80\n",
      "742/742 [==============================] - 11s - loss: 0.1084 - acc: 0.9691 - val_loss: 0.1534 - val_acc: 0.9167\n",
      "Epoch 65/80\n",
      "742/742 [==============================] - 11s - loss: 0.1030 - acc: 0.9706 - val_loss: 0.1442 - val_acc: 0.9375\n",
      "Epoch 66/80\n"
     ]
    },
    {
     "name": "stdout",
     "output_type": "stream",
     "text": [
      "742/742 [==============================] - 11s - loss: 0.1041 - acc: 0.9674 - val_loss: 0.1665 - val_acc: 0.9375\n",
      "Epoch 67/80\n",
      "742/742 [==============================] - 11s - loss: 0.1020 - acc: 0.9690 - val_loss: 0.1340 - val_acc: 0.9375\n",
      "Epoch 68/80\n",
      "742/742 [==============================] - 11s - loss: 0.1068 - acc: 0.9682 - val_loss: 0.1616 - val_acc: 0.9583\n",
      "Epoch 69/80\n",
      "742/742 [==============================] - 11s - loss: 0.0904 - acc: 0.9730 - val_loss: 0.1491 - val_acc: 0.9375\n",
      "Epoch 70/80\n",
      "742/742 [==============================] - 11s - loss: 0.1066 - acc: 0.9695 - val_loss: 0.1368 - val_acc: 0.9375\n",
      "Epoch 71/80\n",
      "742/742 [==============================] - 11s - loss: 0.1082 - acc: 0.9688 - val_loss: 0.1412 - val_acc: 0.9583\n",
      "Epoch 72/80\n",
      "742/742 [==============================] - 11s - loss: 0.1114 - acc: 0.9679 - val_loss: 0.0872 - val_acc: 0.9583\n",
      "Epoch 73/80\n",
      "742/742 [==============================] - 11s - loss: 0.1022 - acc: 0.9709 - val_loss: 0.1487 - val_acc: 0.9375\n",
      "Epoch 74/80\n",
      "742/742 [==============================] - 11s - loss: 0.1027 - acc: 0.9700 - val_loss: 0.2303 - val_acc: 0.9375\n",
      "Epoch 75/80\n",
      "742/742 [==============================] - 11s - loss: 0.1087 - acc: 0.9680 - val_loss: 0.1628 - val_acc: 0.9375\n",
      "Epoch 76/80\n",
      "742/742 [==============================] - 11s - loss: 0.1094 - acc: 0.9676 - val_loss: 0.1398 - val_acc: 0.9583\n",
      "Epoch 77/80\n",
      "742/742 [==============================] - 11s - loss: 0.0980 - acc: 0.9705 - val_loss: 0.1785 - val_acc: 0.9375\n",
      "Epoch 78/80\n",
      "742/742 [==============================] - 11s - loss: 0.1156 - acc: 0.9665 - val_loss: 0.1554 - val_acc: 0.9583\n",
      "Epoch 79/80\n",
      "742/742 [==============================] - 11s - loss: 0.1058 - acc: 0.9707 - val_loss: 0.1179 - val_acc: 0.9583\n",
      "Epoch 80/80\n",
      "742/742 [==============================] - 11s - loss: 0.1123 - acc: 0.9680 - val_loss: 0.1543 - val_acc: 0.9583\n",
      "Test loss: 0.15431600002\n",
      "Test accuracy: 0.958333333333\n"
     ]
    }
   ],
   "source": [
    "model.compile(loss=keras.losses.categorical_crossentropy,\n",
    "              optimizer=keras.optimizers.Adadelta(),\n",
    "              metrics=['accuracy'])\n",
    "model.fit_generator(datagen.flow(x_train, y_train, batch_size=16), steps_per_epoch=x_train.shape[0],\n",
    "                    epochs=80, verbose=1, validation_data=(x_test, y_test))\n",
    "score = model.evaluate(x_test, y_test, verbose=0)\n",
    "print('Test loss:', score[0])\n",
    "print('Test accuracy:', score[1])"
   ]
  },
  {
   "cell_type": "code",
   "execution_count": 63,
   "metadata": {
    "collapsed": true
   },
   "outputs": [],
   "source": [
    "model.save_weights('learn/param.hdf5')"
   ]
  },
  {
   "cell_type": "code",
   "execution_count": 66,
   "metadata": {},
   "outputs": [
    {
     "name": "stdout",
     "output_type": "stream",
     "text": [
      "[12  9  8 29 23 10  9 19  1  9  0 28 10 21 20 29 23  2  6  6 29 14 13 22  1\n",
      " 14 26  2  3 11  0 10  1  1  4  2 26  7  7 11  0  2 14 28 12  3 20 22]\n",
      "[12  9  8 29 23  9  9 19  1  9  0 28 10 21 20 29 23  2  6  6 29 26 13 22  1\n",
      " 14 26  2  3 11  0 10  1  1  4  2 26  7  7 11  0  2 14 28 12  3 20 22]\n",
      "[ 5 21]\n"
     ]
    }
   ],
   "source": [
    "model.save_weights('learn/param.hdf5')\n",
    "pred_res = model.predict(x_test)\n",
    "res = np.array([np.argmax(r) for r in pred_res])\n",
    "ans = np.array([np.where(y == 1)[0][0] for y in y_test])\n",
    "print(res)\n",
    "print(ans)\n",
    "correct = np.where(res == ans)[0]\n",
    "errors = np.where(res != ans)[0]\n",
    "print(errors)"
   ]
  },
  {
   "cell_type": "code",
   "execution_count": 65,
   "metadata": {
    "scrolled": false
   },
   "outputs": [
    {
     "data": {
      "image/png": "[encoded data removed]",
      "text/plain": [
       "<IPython.core.display.Image object>"
      ]
     },
     "metadata": {},
     "output_type": "display_data"
    },
    {
     "name": "stdout",
     "output_type": "stream",
     "text": [
      "narikei\n"
     ]
    },
    {
     "data": {
      "image/png": "[encoded data removed]",
      "text/plain": [
       "<IPython.core.display.Image object>"
      ]
     },
     "metadata": {},
     "output_type": "display_data"
    },
    {
     "name": "stdout",
     "output_type": "stream",
     "text": [
      "to\n"
     ]
    }
   ],
   "source": [
    "for e in errors:\n",
    "    display_image(np.uint8(x_test[e] * 255)[:, :, 0])\n",
    "    if len(labels) > res[e]:\n",
    "        print(labels[res[e]])\n",
    "    else:\n",
    "        print(\"p\")\n",
    "        print(labels[res[e] - len(labels)])"
   ]
  },
  {
   "cell_type": "code",
   "execution_count": 61,
   "metadata": {
    "scrolled": false
   },
   "outputs": [
    {
     "data": {
      "image/png": "[encoded data removed]",
      "text/plain": [
       "<IPython.core.display.Image object>"
      ]
     },
     "metadata": {},
     "output_type": "display_data"
    },
    {
     "name": "stdout",
     "output_type": "stream",
     "text": [
      "uma\n"
     ]
    },
    {
     "data": {
      "image/png": "[encoded data removed]",
      "text/plain": [
       "<IPython.core.display.Image object>"
      ]
     },
     "metadata": {},
     "output_type": "display_data"
    },
    {
     "name": "stdout",
     "output_type": "stream",
     "text": [
      "narigin\n"
     ]
    },
    {
     "data": {
      "image/png": "[encoded data removed]",
      "text/plain": [
       "<IPython.core.display.Image object>"
      ]
     },
     "metadata": {},
     "output_type": "display_data"
    },
    {
     "name": "stdout",
     "output_type": "stream",
     "text": [
      "fu\n"
     ]
    },
    {
     "data": {
      "image/png": "[encoded data removed]",
      "text/plain": [
       "<IPython.core.display.Image object>"
      ]
     },
     "metadata": {},
     "output_type": "display_data"
    },
    {
     "name": "stdout",
     "output_type": "stream",
     "text": [
      "*to\n"
     ]
    },
    {
     "data": {
      "image/png": "[encoded data removed]",
      "text/plain": [
       "<IPython.core.display.Image object>"
      ]
     },
     "metadata": {},
     "output_type": "display_data"
    },
    {
     "name": "stdout",
     "output_type": "stream",
     "text": [
      "*fu\n"
     ]
    },
    {
     "data": {
      "image/png": "[encoded data removed]",
      "text/plain": [
       "<IPython.core.display.Image object>"
      ]
     },
     "metadata": {},
     "output_type": "display_data"
    },
    {
     "name": "stdout",
     "output_type": "stream",
     "text": [
      "narigin\n"
     ]
    },
    {
     "data": {
      "image/png": "[encoded data removed]",
      "text/plain": [
       "<IPython.core.display.Image object>"
      ]
     },
     "metadata": {},
     "output_type": "display_data"
    },
    {
     "name": "stdout",
     "output_type": "stream",
     "text": [
      "*kei\n"
     ]
    },
    {
     "data": {
      "image/png": "[encoded data removed]",
      "text/plain": [
       "<IPython.core.display.Image object>"
      ]
     },
     "metadata": {},
     "output_type": "display_data"
    },
    {
     "name": "stdout",
     "output_type": "stream",
     "text": [
      "ou\n"
     ]
    },
    {
     "data": {
      "image/png": "[encoded data removed]",
      "text/plain": [
       "<IPython.core.display.Image object>"
      ]
     },
     "metadata": {},
     "output_type": "display_data"
    },
    {
     "name": "stdout",
     "output_type": "stream",
     "text": [
      "narigin\n"
     ]
    },
    {
     "data": {
      "image/png": "[encoded data removed]",
      "text/plain": [
       "<IPython.core.display.Image object>"
      ]
     },
     "metadata": {},
     "output_type": "display_data"
    },
    {
     "name": "stdout",
     "output_type": "stream",
     "text": [
      "gyoku\n"
     ]
    },
    {
     "data": {
      "image/png": "[encoded data removed]",
      "text/plain": [
       "<IPython.core.display.Image object>"
      ]
     },
     "metadata": {},
     "output_type": "display_data"
    },
    {
     "name": "stdout",
     "output_type": "stream",
     "text": [
      "*ryu\n"
     ]
    },
    {
     "data": {
      "image/png": "[encoded data removed]",
      "text/plain": [
       "<IPython.core.display.Image object>"
      ]
     },
     "metadata": {},
     "output_type": "display_data"
    },
    {
     "name": "stdout",
     "output_type": "stream",
     "text": [
      "narikei\n"
     ]
    },
    {
     "data": {
      "image/png": "[encoded data removed]",
      "text/plain": [
       "<IPython.core.display.Image object>"
      ]
     },
     "metadata": {},
     "output_type": "display_data"
    },
    {
     "name": "stdout",
     "output_type": "stream",
     "text": [
      "*kaku\n"
     ]
    },
    {
     "data": {
      "image/png": "[encoded data removed]",
      "text/plain": [
       "<IPython.core.display.Image object>"
      ]
     },
     "metadata": {},
     "output_type": "display_data"
    },
    {
     "name": "stdout",
     "output_type": "stream",
     "text": [
      "*kyo\n"
     ]
    },
    {
     "data": {
      "image/png": "[encoded data removed]",
      "text/plain": [
       "<IPython.core.display.Image object>"
      ]
     },
     "metadata": {},
     "output_type": "display_data"
    },
    {
     "name": "stdout",
     "output_type": "stream",
     "text": [
      "*to\n"
     ]
    },
    {
     "data": {
      "image/png": "[encoded data removed]",
      "text/plain": [
       "<IPython.core.display.Image object>"
      ]
     },
     "metadata": {},
     "output_type": "display_data"
    },
    {
     "name": "stdout",
     "output_type": "stream",
     "text": [
      "*fu\n"
     ]
    },
    {
     "data": {
      "image/png": "[encoded data removed]",
      "text/plain": [
       "<IPython.core.display.Image object>"
      ]
     },
     "metadata": {},
     "output_type": "display_data"
    },
    {
     "name": "stdout",
     "output_type": "stream",
     "text": [
      "kin\n"
     ]
    },
    {
     "data": {
      "image/png": "[encoded data removed]",
      "text/plain": [
       "<IPython.core.display.Image object>"
      ]
     },
     "metadata": {},
     "output_type": "display_data"
    },
    {
     "name": "stdout",
     "output_type": "stream",
     "text": [
      "kaku\n"
     ]
    },
    {
     "data": {
      "image/png": "[encoded data removed]",
      "text/plain": [
       "<IPython.core.display.Image object>"
      ]
     },
     "metadata": {},
     "output_type": "display_data"
    },
    {
     "name": "stdout",
     "output_type": "stream",
     "text": [
      "kaku\n"
     ]
    },
    {
     "data": {
      "image/png": "[encoded data removed]",
      "text/plain": [
       "<IPython.core.display.Image object>"
      ]
     },
     "metadata": {},
     "output_type": "display_data"
    },
    {
     "name": "stdout",
     "output_type": "stream",
     "text": [
      "*to\n"
     ]
    },
    {
     "data": {
      "image/png": "[encoded data removed]",
      "text/plain": [
       "<IPython.core.display.Image object>"
      ]
     },
     "metadata": {},
     "output_type": "display_data"
    },
    {
     "name": "stdout",
     "output_type": "stream",
     "text": [
      "ryu\n"
     ]
    },
    {
     "data": {
      "image/png": "[encoded data removed]",
      "text/plain": [
       "<IPython.core.display.Image object>"
      ]
     },
     "metadata": {},
     "output_type": "display_data"
    },
    {
     "name": "stdout",
     "output_type": "stream",
     "text": [
      "*hi\n"
     ]
    },
    {
     "data": {
      "image/png": "[encoded data removed]",
      "text/plain": [
       "<IPython.core.display.Image object>"
      ]
     },
     "metadata": {},
     "output_type": "display_data"
    },
    {
     "name": "stdout",
     "output_type": "stream",
     "text": [
      "ou\n"
     ]
    },
    {
     "data": {
      "image/png": "[encoded data removed]",
      "text/plain": [
       "<IPython.core.display.Image object>"
      ]
     },
     "metadata": {},
     "output_type": "display_data"
    },
    {
     "name": "stdout",
     "output_type": "stream",
     "text": [
      "to\n"
     ]
    },
    {
     "data": {
      "image/png": "[encoded data removed]",
      "text/plain": [
       "<IPython.core.display.Image object>"
      ]
     },
     "metadata": {},
     "output_type": "display_data"
    },
    {
     "name": "stdout",
     "output_type": "stream",
     "text": [
      "*narikyo\n"
     ]
    },
    {
     "data": {
      "image/png": "[encoded data removed]",
      "text/plain": [
       "<IPython.core.display.Image object>"
      ]
     },
     "metadata": {},
     "output_type": "display_data"
    },
    {
     "name": "stdout",
     "output_type": "stream",
     "text": [
      "kin\n"
     ]
    },
    {
     "data": {
      "image/png": "[encoded data removed]",
      "text/plain": [
       "<IPython.core.display.Image object>"
      ]
     },
     "metadata": {},
     "output_type": "display_data"
    },
    {
     "name": "stdout",
     "output_type": "stream",
     "text": [
      "gin\n"
     ]
    },
    {
     "data": {
      "image/png": "[encoded data removed]",
      "text/plain": [
       "<IPython.core.display.Image object>"
      ]
     },
     "metadata": {},
     "output_type": "display_data"
    },
    {
     "name": "stdout",
     "output_type": "stream",
     "text": [
      "narikyo\n"
     ]
    },
    {
     "data": {
      "image/png": "[encoded data removed]",
      "text/plain": [
       "<IPython.core.display.Image object>"
      ]
     },
     "metadata": {},
     "output_type": "display_data"
    },
    {
     "name": "stdout",
     "output_type": "stream",
     "text": [
      "gyoku\n"
     ]
    },
    {
     "data": {
      "image/png": "[encoded data removed]",
      "text/plain": [
       "<IPython.core.display.Image object>"
      ]
     },
     "metadata": {},
     "output_type": "display_data"
    },
    {
     "name": "stdout",
     "output_type": "stream",
     "text": [
      "narikei\n"
     ]
    },
    {
     "data": {
      "image/png": "[encoded data removed]",
      "text/plain": [
       "<IPython.core.display.Image object>"
      ]
     },
     "metadata": {},
     "output_type": "display_data"
    },
    {
     "name": "stdout",
     "output_type": "stream",
     "text": [
      "ou\n"
     ]
    },
    {
     "data": {
      "image/png": "[encoded data removed]",
      "text/plain": [
       "<IPython.core.display.Image object>"
      ]
     },
     "metadata": {},
     "output_type": "display_data"
    },
    {
     "name": "stdout",
     "output_type": "stream",
     "text": [
      "ou\n"
     ]
    },
    {
     "data": {
      "image/png": "[encoded data removed]",
      "text/plain": [
       "<IPython.core.display.Image object>"
      ]
     },
     "metadata": {},
     "output_type": "display_data"
    },
    {
     "name": "stdout",
     "output_type": "stream",
     "text": [
      "kei\n"
     ]
    },
    {
     "data": {
      "image/png": "[encoded data removed]",
      "text/plain": [
       "<IPython.core.display.Image object>"
      ]
     },
     "metadata": {},
     "output_type": "display_data"
    },
    {
     "name": "stdout",
     "output_type": "stream",
     "text": [
      "kin\n"
     ]
    },
    {
     "data": {
      "image/png": "[encoded data removed]",
      "text/plain": [
       "<IPython.core.display.Image object>"
      ]
     },
     "metadata": {},
     "output_type": "display_data"
    },
    {
     "name": "stdout",
     "output_type": "stream",
     "text": [
      "*narikyo\n"
     ]
    },
    {
     "data": {
      "image/png": "[encoded data removed]",
      "text/plain": [
       "<IPython.core.display.Image object>"
      ]
     },
     "metadata": {},
     "output_type": "display_data"
    },
    {
     "name": "stdout",
     "output_type": "stream",
     "text": [
      "hi\n"
     ]
    },
    {
     "data": {
      "image/png": "[encoded data removed]",
      "text/plain": [
       "<IPython.core.display.Image object>"
      ]
     },
     "metadata": {},
     "output_type": "display_data"
    },
    {
     "name": "stdout",
     "output_type": "stream",
     "text": [
      "hi\n"
     ]
    },
    {
     "data": {
      "image/png": "[encoded data removed]",
      "text/plain": [
       "<IPython.core.display.Image object>"
      ]
     },
     "metadata": {},
     "output_type": "display_data"
    },
    {
     "name": "stdout",
     "output_type": "stream",
     "text": [
      "narikyo\n"
     ]
    },
    {
     "data": {
      "image/png": "[encoded data removed]",
      "text/plain": [
       "<IPython.core.display.Image object>"
      ]
     },
     "metadata": {},
     "output_type": "display_data"
    },
    {
     "name": "stdout",
     "output_type": "stream",
     "text": [
      "gyoku\n"
     ]
    },
    {
     "data": {
      "image/png": "[encoded data removed]",
      "text/plain": [
       "<IPython.core.display.Image object>"
      ]
     },
     "metadata": {},
     "output_type": "display_data"
    },
    {
     "name": "stdout",
     "output_type": "stream",
     "text": [
      "kin\n"
     ]
    },
    {
     "data": {
      "image/png": "[encoded data removed]",
      "text/plain": [
       "<IPython.core.display.Image object>"
      ]
     },
     "metadata": {},
     "output_type": "display_data"
    },
    {
     "name": "stdout",
     "output_type": "stream",
     "text": [
      "to\n"
     ]
    },
    {
     "data": {
      "image/png": "[encoded data removed]",
      "text/plain": [
       "<IPython.core.display.Image object>"
      ]
     },
     "metadata": {},
     "output_type": "display_data"
    },
    {
     "name": "stdout",
     "output_type": "stream",
     "text": [
      "*ryu\n"
     ]
    },
    {
     "data": {
      "image/png": "[encoded data removed]",
      "text/plain": [
       "<IPython.core.display.Image object>"
      ]
     },
     "metadata": {},
     "output_type": "display_data"
    },
    {
     "name": "stdout",
     "output_type": "stream",
     "text": [
      "uma\n"
     ]
    },
    {
     "data": {
      "image/png": "[encoded data removed]",
      "text/plain": [
       "<IPython.core.display.Image object>"
      ]
     },
     "metadata": {},
     "output_type": "display_data"
    },
    {
     "name": "stdout",
     "output_type": "stream",
     "text": [
      "gin\n"
     ]
    },
    {
     "data": {
      "image/png": "[encoded data removed]",
      "text/plain": [
       "<IPython.core.display.Image object>"
      ]
     },
     "metadata": {},
     "output_type": "display_data"
    },
    {
     "name": "stdout",
     "output_type": "stream",
     "text": [
      "*kyo\n"
     ]
    },
    {
     "data": {
      "image/png": "[encoded data removed]",
      "text/plain": [
       "<IPython.core.display.Image object>"
      ]
     },
     "metadata": {},
     "output_type": "display_data"
    },
    {
     "name": "stdout",
     "output_type": "stream",
     "text": [
      "*hi\n"
     ]
    }
   ],
   "source": [
    "for e in correct:\n",
    "    display_image(np.uint8(x_test[e] * 255)[:, :, 0])\n",
    "    if len(labels) > res[e]:\n",
    "        print(labels[res[e]])\n",
    "    elif len(labels) * 2 > res[e]:\n",
    "        print(\"*\" + labels[res[e] - len(labels)])\n",
    "    else:\n",
    "        print(\"　\")"
   ]
  },
  {
   "cell_type": "code",
   "execution_count": 27,
   "metadata": {
    "collapsed": true
   },
   "outputs": [],
   "source": []
  }
 ],
 "metadata": {
  "kernelspec": {
   "display_name": "Python 3",
   "language": "python",
   "name": "python3"
  },
  "language_info": {
   "codemirror_mode": {
    "name": "ipython",
    "version": 3
   },
   "file_extension": ".py",
   "mimetype": "text/x-python",
   "name": "python",
   "nbconvert_exporter": "python",
   "pygments_lexer": "ipython3",
   "version": "3.5.3"
  }
 },
 "nbformat": 4,
 "nbformat_minor": 2
}
