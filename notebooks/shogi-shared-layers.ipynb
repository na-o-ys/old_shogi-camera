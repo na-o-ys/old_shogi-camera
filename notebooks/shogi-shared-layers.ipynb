{
 "cells": [
  {
   "cell_type": "code",
   "execution_count": 25,
   "metadata": {},
   "outputs": [],
   "source": [
    "import numpy as np\n",
    "import scipy.misc\n",
    "import glob\n",
    "import keras\n",
    "from keras import backend as K\n",
    "from keras.layers import Conv2D, MaxPooling2D, Input\n",
    "from keras.layers import Dense, Dropout, Flatten\n",
    "from keras.layers.merge import Concatenate\n",
    "from keras.models import Sequential, Model\n",
    "from keras.preprocessing.image import ImageDataGenerator\n",
    "from sklearn.model_selection import train_test_split\n",
    "\n",
    "labels = ['gyoku', 'ou', 'kin', 'gin', 'kei', 'kyo', 'kaku', 'hi', 'fu', 'narigin', 'narikei', 'narikyo', 'uma', 'ryu', 'to']\n",
    "num_classes = len(labels)\n",
    "\n",
    "# input image dimensions\n",
    "img_rows, img_cols = 48, 48\n",
    "input_shape = (img_rows, img_cols, 1)\n",
    "\n",
    "series_imgs = []\n",
    "series_labels = []\n",
    "for i, series in enumerate(glob.glob(\"data/*.npz\")):\n",
    "    file = np.load(series)\n",
    "    series_imgs.append(file['imgs'].astype(np.float32))\n",
    "    series_labels.append(file['labels'])\n",
    "num_series = len(series_imgs)"
   ]
  },
  {
   "cell_type": "code",
   "execution_count": 67,
   "metadata": {
    "scrolled": true
   },
   "outputs": [
    {
     "name": "stdout",
     "output_type": "stream",
     "text": [
      "____________________________________________________________________________________________________\n",
      "Layer (type)                     Output Shape          Param #     Connected to                     \n",
      "====================================================================================================\n",
      "input_68 (InputLayer)            (None, 48, 48, 1)     0                                            \n",
      "____________________________________________________________________________________________________\n",
      "input_69 (InputLayer)            (None, 48, 48, 1)     0                                            \n",
      "____________________________________________________________________________________________________\n",
      "input_70 (InputLayer)            (None, 48, 48, 1)     0                                            \n",
      "____________________________________________________________________________________________________\n",
      "input_71 (InputLayer)            (None, 48, 48, 1)     0                                            \n",
      "____________________________________________________________________________________________________\n",
      "input_72 (InputLayer)            (None, 48, 48, 1)     0                                            \n",
      "____________________________________________________________________________________________________\n",
      "input_73 (InputLayer)            (None, 48, 48, 1)     0                                            \n",
      "____________________________________________________________________________________________________\n",
      "model_18 (Model)                 (None, 5184)          64992       input_68[0][0]                   \n",
      "                                                                   input_69[0][0]                   \n",
      "                                                                   input_70[0][0]                   \n",
      "                                                                   input_71[0][0]                   \n",
      "                                                                   input_72[0][0]                   \n",
      "                                                                   input_73[0][0]                   \n",
      "____________________________________________________________________________________________________\n",
      "dense_58 (Dense)                 (None, 64)            331840      model_18[1][0]                   \n",
      "____________________________________________________________________________________________________\n",
      "dropout_36 (Dropout)             (None, 64)            0           dense_58[0][0]                   \n",
      "____________________________________________________________________________________________________\n",
      "dense_59 (Dense)                 (None, 1)             5185        model_18[2][0]                   \n",
      "____________________________________________________________________________________________________\n",
      "dense_60 (Dense)                 (None, 1)             5185        model_18[3][0]                   \n",
      "____________________________________________________________________________________________________\n",
      "dense_61 (Dense)                 (None, 1)             5185        model_18[4][0]                   \n",
      "____________________________________________________________________________________________________\n",
      "dense_62 (Dense)                 (None, 1)             5185        model_18[5][0]                   \n",
      "____________________________________________________________________________________________________\n",
      "dense_63 (Dense)                 (None, 1)             5185        model_18[6][0]                   \n",
      "____________________________________________________________________________________________________\n",
      "concatenate_7 (Concatenate)      (None, 69)            0           dropout_36[0][0]                 \n",
      "                                                                   dense_59[0][0]                   \n",
      "                                                                   dense_60[0][0]                   \n",
      "                                                                   dense_61[0][0]                   \n",
      "                                                                   dense_62[0][0]                   \n",
      "                                                                   dense_63[0][0]                   \n",
      "____________________________________________________________________________________________________\n",
      "dense_64 (Dense)                 (None, 15)            1050        concatenate_7[0][0]              \n",
      "====================================================================================================\n",
      "Total params: 423,807\n",
      "Trainable params: 423,807\n",
      "Non-trainable params: 0\n",
      "____________________________________________________________________________________________________\n"
     ]
    }
   ],
   "source": [
    "# conv module\n",
    "conv_in = Input(shape=input_shape)\n",
    "## first layer\n",
    "x = Conv2D(32, kernel_size=(3, 3), activation='relu', input_shape=input_shape)(conv_in)\n",
    "x = Conv2D(32, kernel_size=(3, 3), activation='relu', input_shape=input_shape)(x)\n",
    "x = MaxPooling2D(pool_size=(2, 2))(x)\n",
    "x = Dropout(0.5)(x)\n",
    "## second layer\n",
    "x = Conv2D(64, kernel_size=(3, 3), activation='relu', input_shape=input_shape)(x)\n",
    "x = Conv2D(64, kernel_size=(3, 3), activation='relu', input_shape=input_shape)(x)\n",
    "x = MaxPooling2D(pool_size=(2, 2))(x)\n",
    "x = Dropout(0.5)(x)\n",
    "conv_out = Flatten()(x)\n",
    "\n",
    "conv_model = Model(conv_in, conv_out)\n",
    "\n",
    "# main network\n",
    "main_input = Input(shape=input_shape)\n",
    "x = conv_model(main_input)\n",
    "x = Dense(64, activation='relu')(x)\n",
    "main_output = Dropout(0.5)(x)\n",
    "\n",
    "inputs = [main_input]\n",
    "outputs = [main_output]\n",
    "\n",
    "# hint network\n",
    "num_hint = 5\n",
    "for i in range(num_hint):\n",
    "    hint_input = Input(shape=input_shape)\n",
    "    x = conv_model(hint_input)\n",
    "    hint_output = Dense(1, activation='relu')(x)\n",
    "    inputs.append(hint_input)\n",
    "    outputs.append(hint_output)\n",
    "\n",
    "concatenated_neuron = Concatenate()(outputs)\n",
    "out = Dense(num_classes, activation='softmax')(concatenated_neuron)\n",
    "model = Model(inputs, out)\n",
    "model.summary()\n",
    "\n",
    "model.compile(loss=keras.losses.categorical_crossentropy,\n",
    "              optimizer=keras.optimizers.Adadelta(),\n",
    "              metrics=['accuracy'])"
   ]
  },
  {
   "cell_type": "code",
   "execution_count": 58,
   "metadata": {},
   "outputs": [],
   "source": [
    "num_sample = 10\n",
    "x_all = np.empty((0, 6, img_rows, img_cols))\n",
    "y_all = np.empty(0)\n",
    "for i in range(num_series):\n",
    "    for j, img in enumerate(series_imgs[i]):\n",
    "        num_imgs = len(series_imgs[i])\n",
    "        label = series_labels[i][j]\n",
    "        label_i = labels.index(label)\n",
    "        xs = np.empty((0, 6, img_rows, img_cols))\n",
    "        ys = np.empty(0)\n",
    "        for k in range(num_sample):\n",
    "            ids = np.random.randint(0, num_imgs, size=5)\n",
    "            hints = series_imgs[i][ids]\n",
    "            xs = np.r_[xs, [np.r_[[img], hints]]]\n",
    "            ys = np.r_[ys, [label_i]]\n",
    "        x_all = np.r_[x_all, xs]\n",
    "        y_all = np.r_[y_all, ys]"
   ]
  },
  {
   "cell_type": "code",
   "execution_count": 68,
   "metadata": {
    "scrolled": true
   },
   "outputs": [
    {
     "name": "stdout",
     "output_type": "stream",
     "text": [
      "x_train shape: (2943, 6, 48, 48)\n",
      "2943 train samples\n",
      "327 test samples\n",
      "Train on 2943 samples, validate on 327 samples\n",
      "Epoch 1/20\n",
      "2943/2943 [==============================] - 11s - loss: 2.7122 - acc: 0.0669 - val_loss: 2.7089 - val_acc: 0.0459\n",
      "Epoch 2/20\n",
      "2943/2943 [==============================] - 10s - loss: 2.6407 - acc: 0.1050 - val_loss: 2.1507 - val_acc: 0.3700\n",
      "Epoch 3/20\n",
      "2943/2943 [==============================] - 10s - loss: 1.8677 - acc: 0.3547 - val_loss: 0.9236 - val_acc: 0.7401\n",
      "Epoch 4/20\n",
      "2943/2943 [==============================] - 10s - loss: 1.1960 - acc: 0.5647 - val_loss: 0.4490 - val_acc: 0.9327\n",
      "Epoch 5/20\n",
      "2943/2943 [==============================] - 10s - loss: 0.8405 - acc: 0.6972 - val_loss: 0.2300 - val_acc: 0.9480\n",
      "Epoch 6/20\n",
      "2943/2943 [==============================] - 10s - loss: 0.6522 - acc: 0.7587 - val_loss: 0.1540 - val_acc: 0.9908\n",
      "Epoch 7/20\n",
      "2943/2943 [==============================] - 10s - loss: 0.5571 - acc: 0.8002 - val_loss: 0.0719 - val_acc: 1.0000\n",
      "Epoch 8/20\n",
      "2943/2943 [==============================] - 10s - loss: 0.4276 - acc: 0.8515 - val_loss: 0.0435 - val_acc: 1.0000\n",
      "Epoch 9/20\n",
      "2943/2943 [==============================] - 10s - loss: 0.3640 - acc: 0.8753 - val_loss: 0.0317 - val_acc: 0.9969\n",
      "Epoch 10/20\n",
      "2943/2943 [==============================] - 10s - loss: 0.3126 - acc: 0.8950 - val_loss: 0.0235 - val_acc: 1.0000\n",
      "Epoch 11/20\n",
      "2943/2943 [==============================] - 10s - loss: 0.2895 - acc: 0.8977 - val_loss: 0.0182 - val_acc: 1.0000\n",
      "Epoch 12/20\n",
      "2943/2943 [==============================] - 10s - loss: 0.2522 - acc: 0.9134 - val_loss: 0.0136 - val_acc: 1.0000\n",
      "Epoch 13/20\n",
      "2943/2943 [==============================] - 10s - loss: 0.2311 - acc: 0.9117 - val_loss: 0.0123 - val_acc: 1.0000\n",
      "Epoch 14/20\n",
      "2943/2943 [==============================] - 10s - loss: 0.2096 - acc: 0.9266 - val_loss: 0.0079 - val_acc: 1.0000\n",
      "Epoch 15/20\n",
      "2943/2943 [==============================] - 10s - loss: 0.1950 - acc: 0.9293 - val_loss: 0.0071 - val_acc: 1.0000\n",
      "Epoch 16/20\n",
      "2943/2943 [==============================] - 10s - loss: 0.1679 - acc: 0.9385 - val_loss: 0.0046 - val_acc: 1.0000\n",
      "Epoch 17/20\n",
      "2943/2943 [==============================] - 10s - loss: 0.1756 - acc: 0.9368 - val_loss: 0.0035 - val_acc: 1.0000\n",
      "Epoch 18/20\n",
      "2943/2943 [==============================] - 10s - loss: 0.1498 - acc: 0.9467 - val_loss: 0.0026 - val_acc: 1.0000\n",
      "Epoch 19/20\n",
      "2943/2943 [==============================] - 10s - loss: 0.1499 - acc: 0.9504 - val_loss: 0.0031 - val_acc: 1.0000\n",
      "Epoch 20/20\n",
      "2943/2943 [==============================] - 10s - loss: 0.1321 - acc: 0.9541 - val_loss: 0.0017 - val_acc: 1.0000\n",
      "Test loss: 0.00165944092054\n",
      "Test accuracy: 1.0\n"
     ]
    }
   ],
   "source": [
    "x_train, x_test, y_train, y_test = train_test_split(x_all, y_all, test_size=0.1)\n",
    "\n",
    "x_train = x_train.astype('float32')\n",
    "x_test = x_test.astype('float32')\n",
    "x_train /= 255\n",
    "x_test /= 255\n",
    "print('x_train shape:', x_train.shape)\n",
    "print(x_train.shape[0], 'train samples')\n",
    "print(x_test.shape[0], 'test samples')\n",
    "\n",
    "x_train_list = []\n",
    "x_test_list = []\n",
    "for i in range(1 + num_hint):\n",
    "    x_train_list.append(x_train[:, i, :, :].reshape(x_train.shape[0], img_rows, img_cols, 1))\n",
    "    x_test_list.append(x_test[:, i, :, :].reshape(x_test.shape[0], img_rows, img_cols, 1))\n",
    "\n",
    "# convert class vectors to binary class matrices\n",
    "y_train = keras.utils.to_categorical(y_train, num_classes)\n",
    "y_test = keras.utils.to_categorical(y_test, num_classes)\n",
    "\n",
    "model.fit(x_train_list, y_train, batch_size=16, epochs=20, verbose=1, validation_data=(x_test_list, y_test))\n",
    "score = model.evaluate(x_test_list, y_test, verbose=0)\n",
    "print('Test loss:', score[0])\n",
    "print('Test accuracy:', score[1])"
   ]
  },
  {
   "cell_type": "code",
   "execution_count": 70,
   "metadata": {
    "collapsed": true
   },
   "outputs": [],
   "source": [
    "pred_res = model.predict(x_test)"
   ]
  },
  {
   "cell_type": "code",
   "execution_count": 79,
   "metadata": {},
   "outputs": [
    {
     "name": "stdout",
     "output_type": "stream",
     "text": [
      "[ 6  4 12  0  8 23 17 21 10 18  7 14  7  6  0 20  5 22 20  4 24 11 28 14 28\n",
      " 27  6  1  6 29  1 10  6 29 17 17  7  3 22  0 25  2 24  2  3 11  3  7  0 16\n",
      " 28  9  1 18  8 19  5 16 14 17 23  9 29 24  1 19]\n",
      "[ 6  4 12  0  8 23 17 21  5 18  7 14  7  6  0 20  5 22 20  4 25 11 28 14 28\n",
      " 28  6  1  6 29  0 10  6 29 17 17  7  3 22  0 25  2 24  2  3 11  3  7  0 16\n",
      " 28  9  1 18  8 19  5 16 14 17 23  9 29 25  0 19]\n",
      "[ 8 20 25 30 63 64]\n"
     ]
    }
   ],
   "source": [
    "res = np.array([np.argmax(r) for r in pred_res])\n",
    "ans = np.array([np.where(y == 1)[0][0] for y in y_test])\n",
    "print(res)\n",
    "print(ans)\n",
    "errors = np.where(res != ans)[0]\n",
    "print(errors)"
   ]
  },
  {
   "cell_type": "code",
   "execution_count": 83,
   "metadata": {},
   "outputs": [
    {
     "data": {
      "image/png": "[encoded data removed]",
      "text/plain": [
       "<IPython.core.display.Image object>"
      ]
     },
     "metadata": {},
     "output_type": "display_data"
    },
    {
     "name": "stdout",
     "output_type": "stream",
     "text": [
      "narikei\n"
     ]
    },
    {
     "data": {
      "image/png": "[encoded data removed]",
      "text/plain": [
       "<IPython.core.display.Image object>"
      ]
     },
     "metadata": {},
     "output_type": "display_data"
    },
    {
     "name": "stdout",
     "output_type": "stream",
     "text": [
      "p\n",
      "narigin\n"
     ]
    },
    {
     "data": {
      "image/png": "[encoded data removed]",
      "text/plain": [
       "<IPython.core.display.Image object>"
      ]
     },
     "metadata": {},
     "output_type": "display_data"
    },
    {
     "name": "stdout",
     "output_type": "stream",
     "text": [
      "p\n",
      "uma\n"
     ]
    },
    {
     "data": {
      "image/png": "[encoded data removed]",
      "text/plain": [
       "<IPython.core.display.Image object>"
      ]
     },
     "metadata": {},
     "output_type": "display_data"
    },
    {
     "name": "stdout",
     "output_type": "stream",
     "text": [
      "ou\n"
     ]
    },
    {
     "data": {
      "image/png": "[encoded data removed]",
      "text/plain": [
       "<IPython.core.display.Image object>"
      ]
     },
     "metadata": {},
     "output_type": "display_data"
    },
    {
     "name": "stdout",
     "output_type": "stream",
     "text": [
      "p\n",
      "narigin\n"
     ]
    },
    {
     "data": {
      "image/png": "[encoded data removed]",
      "text/plain": [
       "<IPython.core.display.Image object>"
      ]
     },
     "metadata": {},
     "output_type": "display_data"
    },
    {
     "name": "stdout",
     "output_type": "stream",
     "text": [
      "ou\n"
     ]
    }
   ],
   "source": [
    "from io import BytesIO\n",
    "from IPython import display\n",
    "from PIL import Image\n",
    "\n",
    "def display_image(arr):\n",
    "    b = BytesIO()\n",
    "    Image.fromarray(np.uint8(arr)).save(b, format='png')\n",
    "    data = b.getvalue()\n",
    "    display.display(display.Image(data=data, format='png', embed=True))\n",
    "\n",
    "for e in errors:\n",
    "    display_image(np.uint8(x_test[e] * 255)[:, :, 0])\n",
    "    if len(labels) > res[e]:\n",
    "        print(labels[res[e]])\n",
    "    else:\n",
    "        print(\"p\")\n",
    "        print(labels[res[e] - len(labels)])"
   ]
  },
  {
   "cell_type": "code",
   "execution_count": null,
   "metadata": {
    "collapsed": true
   },
   "outputs": [],
   "source": []
  }
 ],
 "metadata": {
  "kernelspec": {
   "display_name": "Python 3",
   "language": "python",
   "name": "python3"
  },
  "language_info": {
   "codemirror_mode": {
    "name": "ipython",
    "version": 3
   },
   "file_extension": ".py",
   "mimetype": "text/x-python",
   "name": "python",
   "nbconvert_exporter": "python",
   "pygments_lexer": "ipython3",
   "version": "3.5.3"
  }
 },
 "nbformat": 4,
 "nbformat_minor": 2
}
