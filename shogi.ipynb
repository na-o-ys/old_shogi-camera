{
 "cells": [
  {
   "cell_type": "code",
   "execution_count": 40,
   "metadata": {
    "scrolled": true
   },
   "outputs": [
    {
     "name": "stdout",
     "output_type": "stream",
     "text": [
      "x_train shape: (588, 48, 48, 1)\n",
      "588 train samples\n",
      "66 test samples\n",
      "_________________________________________________________________\n",
      "Layer (type)                 Output Shape              Param #   \n",
      "=================================================================\n",
      "conv2d_61 (Conv2D)           (None, 46, 46, 32)        320       \n",
      "_________________________________________________________________\n",
      "conv2d_62 (Conv2D)           (None, 44, 44, 32)        9248      \n",
      "_________________________________________________________________\n",
      "max_pooling2d_31 (MaxPooling (None, 22, 22, 32)        0         \n",
      "_________________________________________________________________\n",
      "dropout_46 (Dropout)         (None, 22, 22, 32)        0         \n",
      "_________________________________________________________________\n",
      "conv2d_63 (Conv2D)           (None, 20, 20, 64)        18496     \n",
      "_________________________________________________________________\n",
      "conv2d_64 (Conv2D)           (None, 18, 18, 64)        36928     \n",
      "_________________________________________________________________\n",
      "max_pooling2d_32 (MaxPooling (None, 9, 9, 64)          0         \n",
      "_________________________________________________________________\n",
      "dropout_47 (Dropout)         (None, 9, 9, 64)          0         \n",
      "_________________________________________________________________\n",
      "flatten_16 (Flatten)         (None, 5184)              0         \n",
      "_________________________________________________________________\n",
      "dense_31 (Dense)             (None, 256)               1327360   \n",
      "_________________________________________________________________\n",
      "dropout_48 (Dropout)         (None, 256)               0         \n",
      "_________________________________________________________________\n",
      "dense_32 (Dense)             (None, 30)                7710      \n",
      "=================================================================\n",
      "Total params: 1,400,062\n",
      "Trainable params: 1,400,062\n",
      "Non-trainable params: 0\n",
      "_________________________________________________________________\n",
      "Epoch 1/30\n",
      "588/588 [==============================] - 9s - loss: 3.1142 - acc: 0.0975 - val_loss: 1.7742 - val_acc: 0.4848\n",
      "Epoch 2/30\n",
      "588/588 [==============================] - 8s - loss: 1.6746 - acc: 0.4507 - val_loss: 0.8583 - val_acc: 0.7879\n",
      "Epoch 3/30\n",
      "588/588 [==============================] - 8s - loss: 1.1023 - acc: 0.6268 - val_loss: 0.5802 - val_acc: 0.7576\n",
      "Epoch 4/30\n",
      "588/588 [==============================] - 8s - loss: 0.8081 - acc: 0.7249 - val_loss: 0.5563 - val_acc: 0.7879\n",
      "Epoch 5/30\n",
      "588/588 [==============================] - 8s - loss: 0.6621 - acc: 0.7710 - val_loss: 0.5452 - val_acc: 0.8182\n",
      "Epoch 6/30\n",
      "588/588 [==============================] - 8s - loss: 0.5384 - acc: 0.8135 - val_loss: 0.5036 - val_acc: 0.8030\n",
      "Epoch 7/30\n",
      "588/588 [==============================] - 8s - loss: 0.4514 - acc: 0.8402 - val_loss: 0.4673 - val_acc: 0.8333\n",
      "Epoch 8/30\n",
      "588/588 [==============================] - 8s - loss: 0.3887 - acc: 0.8627 - val_loss: 0.4275 - val_acc: 0.8333\n",
      "Epoch 9/30\n",
      "588/588 [==============================] - 8s - loss: 0.3337 - acc: 0.8834 - val_loss: 0.4636 - val_acc: 0.8333\n",
      "Epoch 10/30\n",
      "588/588 [==============================] - 8s - loss: 0.2918 - acc: 0.8937 - val_loss: 0.3719 - val_acc: 0.8636\n",
      "Epoch 11/30\n",
      "588/588 [==============================] - 8s - loss: 0.2709 - acc: 0.9031 - val_loss: 0.3696 - val_acc: 0.9091\n",
      "Epoch 12/30\n",
      "588/588 [==============================] - 8s - loss: 0.2446 - acc: 0.9141 - val_loss: 0.4590 - val_acc: 0.8485\n",
      "Epoch 13/30\n",
      "588/588 [==============================] - 8s - loss: 0.2382 - acc: 0.9191 - val_loss: 0.3210 - val_acc: 0.8939\n",
      "Epoch 14/30\n",
      "588/588 [==============================] - 8s - loss: 0.2121 - acc: 0.9267 - val_loss: 0.3448 - val_acc: 0.8939\n",
      "Epoch 15/30\n",
      "588/588 [==============================] - 8s - loss: 0.1951 - acc: 0.9330 - val_loss: 0.3381 - val_acc: 0.9091\n",
      "Epoch 16/30\n",
      "588/588 [==============================] - 8s - loss: 0.1838 - acc: 0.9353 - val_loss: 0.3401 - val_acc: 0.8788\n",
      "Epoch 17/30\n",
      "588/588 [==============================] - 8s - loss: 0.1611 - acc: 0.9429 - val_loss: 0.2995 - val_acc: 0.9242\n",
      "Epoch 18/30\n",
      "588/588 [==============================] - 8s - loss: 0.1676 - acc: 0.9442 - val_loss: 0.2921 - val_acc: 0.8939\n",
      "Epoch 19/30\n",
      "588/588 [==============================] - 8s - loss: 0.1413 - acc: 0.9510 - val_loss: 0.3805 - val_acc: 0.9091\n",
      "Epoch 20/30\n",
      "588/588 [==============================] - 8s - loss: 0.1496 - acc: 0.9493 - val_loss: 0.3050 - val_acc: 0.9242\n",
      "Epoch 21/30\n",
      "588/588 [==============================] - 8s - loss: 0.1384 - acc: 0.9517 - val_loss: 0.3710 - val_acc: 0.9091\n",
      "Epoch 22/30\n",
      "588/588 [==============================] - 8s - loss: 0.1315 - acc: 0.9529 - val_loss: 0.3387 - val_acc: 0.9091\n",
      "Epoch 23/30\n",
      "588/588 [==============================] - 8s - loss: 0.1305 - acc: 0.9554 - val_loss: 0.3132 - val_acc: 0.9091\n",
      "Epoch 24/30\n",
      "588/588 [==============================] - 8s - loss: 0.1193 - acc: 0.9599 - val_loss: 0.3779 - val_acc: 0.9091\n",
      "Epoch 25/30\n",
      "588/588 [==============================] - 8s - loss: 0.1031 - acc: 0.9661 - val_loss: 0.2977 - val_acc: 0.9394\n",
      "Epoch 26/30\n",
      "588/588 [==============================] - 8s - loss: 0.1101 - acc: 0.9645 - val_loss: 0.3447 - val_acc: 0.9242\n",
      "Epoch 27/30\n",
      "588/588 [==============================] - 8s - loss: 0.1024 - acc: 0.9648 - val_loss: 0.3061 - val_acc: 0.9242\n",
      "Epoch 28/30\n",
      "588/588 [==============================] - 8s - loss: 0.1061 - acc: 0.9651 - val_loss: 0.3364 - val_acc: 0.8939\n",
      "Epoch 29/30\n",
      "588/588 [==============================] - 8s - loss: 0.1054 - acc: 0.9651 - val_loss: 0.3281 - val_acc: 0.9242\n",
      "Epoch 30/30\n",
      "588/588 [==============================] - 8s - loss: 0.0912 - acc: 0.9700 - val_loss: 0.3756 - val_acc: 0.9091\n",
      "Test loss: 0.375593864557\n",
      "Test accuracy: 0.909090909091\n"
     ]
    }
   ],
   "source": [
    "import numpy as np\n",
    "import scipy.misc\n",
    "import keras\n",
    "from keras import backend as K\n",
    "from keras.layers import Conv2D, MaxPooling2D\n",
    "from keras.layers import Dense, Dropout, Flatten\n",
    "from keras.models import Sequential\n",
    "from keras.preprocessing.image import ImageDataGenerator\n",
    "from sklearn.model_selection import train_test_split\n",
    "\n",
    "labels = ['gyoku', 'ou', 'kin', 'gin', 'kei', 'kyo', 'kaku', 'hi', 'fu', 'narigin', 'narikei', 'narikyo', 'uma', 'ryu', 'to']\n",
    "\n",
    "num_classes = len(labels) * 2\n",
    "# input image dimensions\n",
    "img_rows, img_cols = 48, 48\n",
    "\n",
    "x_train = np.empty((0, img_rows, img_cols))\n",
    "y_train = np.empty((0))\n",
    "for i, label in enumerate(labels):\n",
    "    x = np.load(\"data/%s.npz\" % label)['arr_0'].astype(np.float32)\n",
    "    x_p = np.rot90(x, 2)\n",
    "    y = np.full((len(x)), i)\n",
    "    y_p = np.full((len(x)), len(labels) + i)\n",
    "    x_train = np.r_[x_train, x, x_p]\n",
    "    y_train = np.r_[y_train, y, y_p]\n",
    "\n",
    "x_train, x_test, y_train, y_test = train_test_split(x_train, y_train, test_size=0.1)\n",
    "\n",
    "if K.image_data_format() == 'channels_first':\n",
    "    x_train = x_train.reshape(x_train.shape[0], 1, img_rows, img_cols)\n",
    "    x_test = x_test.reshape(x_test.shape[0], 1, img_rows, img_cols)\n",
    "    input_shape = (1, img_rows, img_cols)\n",
    "else:\n",
    "    x_train = x_train.reshape(x_train.shape[0], img_rows, img_cols, 1)\n",
    "    x_test = x_test.reshape(x_test.shape[0], img_rows, img_cols, 1)\n",
    "    input_shape = (img_rows, img_cols, 1)\n",
    "\n",
    "x_train = x_train.astype('float32')\n",
    "x_test = x_test.astype('float32')\n",
    "x_train /= 255\n",
    "x_test /= 255\n",
    "print('x_train shape:', x_train.shape)\n",
    "print(x_train.shape[0], 'train samples')\n",
    "print(x_test.shape[0], 'test samples')\n",
    "\n",
    "# convert class vectors to binary class matrices\n",
    "y_train = keras.utils.to_categorical(y_train, num_classes)\n",
    "y_test = keras.utils.to_categorical(y_test, num_classes)\n",
    "\n",
    "datagen = ImageDataGenerator(rotation_range=15, zoom_range=0.25)\n",
    "datagen.fit(x_train)\n",
    "\n",
    "model = Sequential()\n",
    "model.add(Conv2D(32, kernel_size=(3, 3), activation='relu', input_shape=input_shape))\n",
    "model.add(Conv2D(32, kernel_size=(3, 3), activation='relu', input_shape=input_shape))\n",
    "model.add(MaxPooling2D(pool_size=(2, 2)))\n",
    "model.add(Dropout(0.5))\n",
    "\n",
    "model.add(Conv2D(64, kernel_size=(3, 3), activation='relu', input_shape=input_shape))\n",
    "model.add(Conv2D(64, kernel_size=(3, 3), activation='relu', input_shape=input_shape))\n",
    "model.add(MaxPooling2D(pool_size=(2, 2)))\n",
    "model.add(Dropout(0.5))\n",
    "\n",
    "model.add(Flatten())\n",
    "model.add(Dense(256, activation='relu'))\n",
    "model.add(Dropout(0.5))\n",
    "model.add(Dense(num_classes, activation='softmax'))\n",
    "\n",
    "model.summary()\n",
    "model.compile(loss=keras.losses.categorical_crossentropy,\n",
    "              optimizer=keras.optimizers.Adadelta(),\n",
    "              metrics=['accuracy'])\n",
    "model.fit_generator(datagen.flow(x_train, y_train, batch_size=16), steps_per_epoch=x_train.shape[0],\n",
    "                    epochs=30, verbose=1, validation_data=(x_test, y_test))\n",
    "score = model.evaluate(x_test, y_test, verbose=0)\n",
    "print('Test loss:', score[0])\n",
    "print('Test accuracy:', score[1])"
   ]
  },
  {
   "cell_type": "code",
   "execution_count": 70,
   "metadata": {},
   "outputs": [],
   "source": [
    "pred_res = model.predict(x_test)"
   ]
  },
  {
   "cell_type": "code",
   "execution_count": 79,
   "metadata": {},
   "outputs": [
    {
     "name": "stdout",
     "output_type": "stream",
     "text": [
      "[ 6  4 12  0  8 23 17 21 10 18  7 14  7  6  0 20  5 22 20  4 24 11 28 14 28\n",
      " 27  6  1  6 29  1 10  6 29 17 17  7  3 22  0 25  2 24  2  3 11  3  7  0 16\n",
      " 28  9  1 18  8 19  5 16 14 17 23  9 29 24  1 19]\n",
      "[ 6  4 12  0  8 23 17 21  5 18  7 14  7  6  0 20  5 22 20  4 25 11 28 14 28\n",
      " 28  6  1  6 29  0 10  6 29 17 17  7  3 22  0 25  2 24  2  3 11  3  7  0 16\n",
      " 28  9  1 18  8 19  5 16 14 17 23  9 29 25  0 19]\n",
      "[ 8 20 25 30 63 64]\n"
     ]
    }
   ],
   "source": [
    "res = np.array([np.argmax(r) for r in pred_res])\n",
    "ans = np.array([np.where(y == 1)[0][0] for y in y_test])\n",
    "print(res)\n",
    "print(ans)\n",
    "errors = np.where(res != ans)[0]\n",
    "print(errors)"
   ]
  },
  {
   "cell_type": "code",
   "execution_count": 83,
   "metadata": {},
   "outputs": [
    {
     "data": {
      "image/png": "[encoded data removed]",
      "text/plain": [
       "<IPython.core.display.Image object>"
      ]
     },
     "metadata": {},
     "output_type": "display_data"
    },
    {
     "name": "stdout",
     "output_type": "stream",
     "text": [
      "narikei\n"
     ]
    },
    {
     "data": {
      "image/png": "[encoded data removed]",
      "text/plain": [
       "<IPython.core.display.Image object>"
      ]
     },
     "metadata": {},
     "output_type": "display_data"
    },
    {
     "name": "stdout",
     "output_type": "stream",
     "text": [
      "p\n",
      "narigin\n"
     ]
    },
    {
     "data": {
      "image/png": "[encoded data removed]",
      "text/plain": [
       "<IPython.core.display.Image object>"
      ]
     },
     "metadata": {},
     "output_type": "display_data"
    },
    {
     "name": "stdout",
     "output_type": "stream",
     "text": [
      "p\n",
      "uma\n"
     ]
    },
    {
     "data": {
      "image/png": "[encoded data removed]",
      "text/plain": [
       "<IPython.core.display.Image object>"
      ]
     },
     "metadata": {},
     "output_type": "display_data"
    },
    {
     "name": "stdout",
     "output_type": "stream",
     "text": [
      "ou\n"
     ]
    },
    {
     "data": {
      "image/png": "[encoded data removed]",
      "text/plain": [
       "<IPython.core.display.Image object>"
      ]
     },
     "metadata": {},
     "output_type": "display_data"
    },
    {
     "name": "stdout",
     "output_type": "stream",
     "text": [
      "p\n",
      "narigin\n"
     ]
    },
    {
     "data": {
      "image/png": "[encoded data removed]",
      "text/plain": [
       "<IPython.core.display.Image object>"
      ]
     },
     "metadata": {},
     "output_type": "display_data"
    },
    {
     "name": "stdout",
     "output_type": "stream",
     "text": [
      "ou\n"
     ]
    }
   ],
   "source": [
    "from io import BytesIO\n",
    "from IPython import display\n",
    "from PIL import Image\n",
    "\n",
    "def display_image(arr):\n",
    "    b = BytesIO()\n",
    "    Image.fromarray(np.uint8(arr)).save(b, format='png')\n",
    "    data = b.getvalue()\n",
    "    display.display(display.Image(data=data, format='png', embed=True))\n",
    "\n",
    "for e in errors:\n",
    "    display_image(np.uint8(x_test[e] * 255)[:, :, 0])\n",
    "    if len(labels) > res[e]:\n",
    "        print(labels[res[e]])\n",
    "    else:\n",
    "        print(\"p\")\n",
    "        print(labels[res[e] - len(labels)])"
   ]
  },
  {
   "cell_type": "code",
   "execution_count": null,
   "metadata": {
    "collapsed": true
   },
   "outputs": [],
   "source": []
  }
 ],
 "metadata": {
  "kernelspec": {
   "display_name": "Python 3",
   "language": "python",
   "name": "python3"
  },
  "language_info": {
   "codemirror_mode": {
    "name": "ipython",
    "version": 3
   },
   "file_extension": ".py",
   "mimetype": "text/x-python",
   "name": "python",
   "nbconvert_exporter": "python",
   "pygments_lexer": "ipython3",
   "version": "3.5.3"
  }
 },
 "nbformat": 4,
 "nbformat_minor": 2
}
