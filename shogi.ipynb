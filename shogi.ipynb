{
 "cells": [
  {
   "cell_type": "code",
   "execution_count": 20,
   "metadata": {
    "scrolled": true
   },
   "outputs": [
    {
     "name": "stdout",
     "output_type": "stream",
     "text": [
      "learn/21.npz\n",
      "learn/17.npz\n",
      "learn/08.npz\n",
      "learn/09.npz\n",
      "learn/24.npz\n",
      "learn/18.npz\n",
      "learn/06.npz\n",
      "learn/12.npz\n",
      "learn/05.npz\n",
      "learn/16.npz\n",
      "learn/23.npz\n",
      "learn/10.npz\n",
      "learn/01.npz\n",
      "learn/03.npz\n",
      "learn/04.npz\n",
      "learn/14.npz\n",
      "learn/22.npz\n",
      "learn/15.npz\n",
      "learn/20.npz\n",
      "learn/13.npz\n",
      "learn/26.npz\n",
      "learn/25.npz\n",
      "learn/19.npz\n",
      "learn/07.npz\n",
      "learn/11.npz\n",
      "learn/02.npz\n",
      "learn/00.npz\n"
     ]
    }
   ],
   "source": [
    "import numpy as np\n",
    "import scipy.misc\n",
    "import glob\n",
    "import keras\n",
    "from keras import backend as K\n",
    "from keras.layers import Conv2D, MaxPooling2D, Input\n",
    "from keras.layers import Dense, Dropout, Flatten\n",
    "from keras.layers.merge import Concatenate\n",
    "from keras.models import Sequential, Model\n",
    "from keras.preprocessing.image import ImageDataGenerator\n",
    "from sklearn.model_selection import train_test_split\n",
    "from io import BytesIO\n",
    "from IPython import display\n",
    "from PIL import Image\n",
    "\n",
    "def display_image(arr):\n",
    "    b = BytesIO()\n",
    "    Image.fromarray(np.uint8(arr)).save(b, format='png')\n",
    "    data = b.getvalue()\n",
    "    display.display(display.Image(data=data, format='png', embed=True))\n",
    "\n",
    "labels = ['gyoku', 'ou', 'kin', 'gin', 'kei', 'kyo', 'kaku', 'hi', 'fu', 'narigin', 'narikei', 'narikyo', 'uma', 'ryu', 'to']\n",
    "num_classes = len(labels)\n",
    "\n",
    "# input image dimensions\n",
    "img_rows, img_cols = 64, 64\n",
    "input_shape = (img_rows, img_cols, 1)\n",
    "\n",
    "series_imgs = []\n",
    "series_labels = []\n",
    "for i, series in enumerate(glob.glob(\"learn/*.npz\")):\n",
    "    file = np.load(series)\n",
    "    print(series)\n",
    "    series_imgs.append(file['imgs'].astype(np.float32))\n",
    "    series_labels.append(file['labels'])\n",
    "num_series = len(series_imgs)"
   ]
  },
  {
   "cell_type": "code",
   "execution_count": 26,
   "metadata": {},
   "outputs": [],
   "source": [
    "# load all\n",
    "x_all = np.empty((0, img_rows, img_cols))\n",
    "y_all = np.empty((0, 2), np.int32)\n",
    "for i in range(num_series):\n",
    "    num_imgs = len(series_imgs[i])\n",
    "    x_all = np.r_[x_all, series_imgs[i]]\n",
    "    label_indices = []\n",
    "    for j, label in enumerate(series_labels[i]):\n",
    "        label_indices.append(labels.index(label))\n",
    "    label_and_series = np.c_[label_indices, np.full((num_imgs), i)]\n",
    "    y_all = np.r_[y_all, label_and_series]\n",
    "\n",
    "# reshape to TF\n",
    "x_all = x_all.reshape(x_all.shape[0], img_rows, img_cols, 1)\n",
    "x_all = x_all.astype(np.float32)\n",
    "x_all /= 255"
   ]
  },
  {
   "cell_type": "code",
   "execution_count": 27,
   "metadata": {
    "scrolled": true
   },
   "outputs": [
    {
     "ename": "IndexError",
     "evalue": "too many indices for array",
     "output_type": "error",
     "traceback": [
      "\u001b[0;31m---------------------------------------------------------------------------\u001b[0m",
      "\u001b[0;31mIndexError\u001b[0m                                Traceback (most recent call last)",
      "\u001b[0;32m<ipython-input-27-fd6b5213f662>\u001b[0m in \u001b[0;36m<module>\u001b[0;34m()\u001b[0m\n\u001b[1;32m      1\u001b[0m \u001b[0;31m# x_train, x_test, y_train, y_test = train_test_split(x_all, y_all, test_size=0.1)\u001b[0m\u001b[0;34m\u001b[0m\u001b[0;34m\u001b[0m\u001b[0m\n\u001b[1;32m      2\u001b[0m \u001b[0;34m\u001b[0m\u001b[0m\n\u001b[0;32m----> 3\u001b[0;31m \u001b[0mtrain_ids\u001b[0m \u001b[0;34m=\u001b[0m \u001b[0mnp\u001b[0m\u001b[0;34m.\u001b[0m\u001b[0mwhere\u001b[0m\u001b[0;34m(\u001b[0m\u001b[0my_all\u001b[0m\u001b[0;34m[\u001b[0m\u001b[0;34m:\u001b[0m\u001b[0;34m,\u001b[0m \u001b[0;36m1\u001b[0m\u001b[0;34m]\u001b[0m \u001b[0;34m!=\u001b[0m \u001b[0;36m26\u001b[0m\u001b[0;34m)\u001b[0m\u001b[0;34m\u001b[0m\u001b[0m\n\u001b[0m\u001b[1;32m      4\u001b[0m \u001b[0mtest_ids\u001b[0m \u001b[0;34m=\u001b[0m \u001b[0mnp\u001b[0m\u001b[0;34m.\u001b[0m\u001b[0mwhere\u001b[0m\u001b[0;34m(\u001b[0m\u001b[0my_all\u001b[0m\u001b[0;34m[\u001b[0m\u001b[0;34m:\u001b[0m\u001b[0;34m,\u001b[0m \u001b[0;36m1\u001b[0m\u001b[0;34m]\u001b[0m \u001b[0;34m==\u001b[0m \u001b[0;36m26\u001b[0m\u001b[0;34m)\u001b[0m\u001b[0;34m\u001b[0m\u001b[0m\n\u001b[1;32m      5\u001b[0m \u001b[0mx_train\u001b[0m \u001b[0;34m=\u001b[0m \u001b[0mx_all\u001b[0m\u001b[0;34m[\u001b[0m\u001b[0mtrain_ids\u001b[0m\u001b[0;34m]\u001b[0m\u001b[0;34m\u001b[0m\u001b[0m\n",
      "\u001b[0;31mIndexError\u001b[0m: too many indices for array"
     ]
    }
   ],
   "source": [
    "# x_train, x_test, y_train, y_test = train_test_split(x_all, y_all, test_size=0.1)\n",
    "\n",
    "train_ids = np.where(y_all[:, 1] != 26)\n",
    "test_ids = np.where(y_all[:, 1] == 26)\n",
    "x_train = x_all[train_ids]\n",
    "x_test = x_all[test_ids]\n",
    "y_train = y_all[train_ids]\n",
    "y_test = y_all[test_ids]\n",
    "print(test_ids)\n",
    "\n",
    "# convert class vectors to binary class matrices\n",
    "y_train = keras.utils.to_categorical(y_train[:, 0], num_classes)\n",
    "y_test = keras.utils.to_categorical(y_test[:, 0], num_classes)\n",
    "\n",
    "datagen = ImageDataGenerator(rotation_range=15, zoom_range=0.25)\n",
    "datagen.fit(x_train)\n",
    "\n",
    "model = Sequential()\n",
    "model.add(Conv2D(32, kernel_size=(3, 3), activation='relu', input_shape=input_shape))\n",
    "model.add(Conv2D(32, kernel_size=(3, 3), activation='relu', input_shape=input_shape))\n",
    "model.add(MaxPooling2D(pool_size=(2, 2)))\n",
    "model.add(Dropout(0.5))\n",
    "\n",
    "model.add(Conv2D(64, kernel_size=(3, 3), activation='relu', input_shape=input_shape))\n",
    "model.add(Conv2D(64, kernel_size=(3, 3), activation='relu', input_shape=input_shape))\n",
    "model.add(MaxPooling2D(pool_size=(2, 2)))\n",
    "model.add(Dropout(0.5))\n",
    "\n",
    "model.add(Flatten())\n",
    "model.add(Dense(256, activation='relu'))\n",
    "model.add(Dropout(0.5))\n",
    "model.add(Dense(num_classes, activation='softmax'))\n",
    "\n",
    "model.summary()"
   ]
  },
  {
   "cell_type": "code",
   "execution_count": 28,
   "metadata": {
    "scrolled": false
   },
   "outputs": [
    {
     "name": "stdout",
     "output_type": "stream",
     "text": [
      "Epoch 1/30\n",
      "356/356 [==============================] - 8s - loss: 0.0559 - acc: 0.9803 - val_loss: 0.0128 - val_acc: 1.0000\n",
      "Epoch 2/30\n",
      "356/356 [==============================] - 8s - loss: 0.0493 - acc: 0.9837 - val_loss: 0.0156 - val_acc: 1.0000\n",
      "Epoch 3/30\n",
      "356/356 [==============================] - 8s - loss: 0.0423 - acc: 0.9856 - val_loss: 0.0179 - val_acc: 1.0000\n",
      "Epoch 4/30\n",
      "356/356 [==============================] - 8s - loss: 0.0451 - acc: 0.9854 - val_loss: 0.1087 - val_acc: 0.9333ETA: 6s - loss: - ETA: 2s - lo - ETA: 0s - loss: 0.0437 - acc: \n",
      "Epoch 5/30\n",
      "356/356 [==============================] - 8s - loss: 0.0522 - acc: 0.9817 - val_loss: 0.0329 - val_acc: 1.0000\n",
      "Epoch 6/30\n",
      "356/356 [==============================] - 8s - loss: 0.0441 - acc: 0.9853 - val_loss: 0.0060 - val_acc: 1.0000\n",
      "Epoch 7/30\n",
      "356/356 [==============================] - 8s - loss: 0.0485 - acc: 0.9837 - val_loss: 0.0320 - val_acc: 1.00001s - \n",
      "Epoch 8/30\n",
      "356/356 [==============================] - 8s - loss: 0.0366 - acc: 0.9877 - val_loss: 0.0113 - val_acc: 1.00003s - loss: 0.0419 - acc: - ETA: 3s - lo - ETA: 1s - loss:\n",
      "Epoch 9/30\n",
      "356/356 [==============================] - 8s - loss: 0.0344 - acc: 0.9881 - val_loss: 0.0125 - val_acc: 1.0000oss: 0.0320 - a - ETA: 0s - loss: 0.0328 - acc\n",
      "Epoch 10/30\n",
      "356/356 [==============================] - 8s - loss: 0.0310 - acc: 0.9874 - val_loss: 0.0108 - val_acc: 1.0000\n",
      "Epoch 11/30\n",
      "356/356 [==============================] - 8s - loss: 0.0400 - acc: 0.9863 - val_loss: 0.0038 - val_acc: 1.0000\n",
      "Epoch 12/30\n",
      "356/356 [==============================] - 8s - loss: 0.0339 - acc: 0.9898 - val_loss: 0.0038 - val_acc: 1.0000\n",
      "Epoch 13/30\n",
      "356/356 [==============================] - 8s - loss: 0.0380 - acc: 0.9874 - val_loss: 0.0208 - val_acc: 1.0000\n",
      "Epoch 14/30\n",
      "356/356 [==============================] - 8s - loss: 0.0303 - acc: 0.9896 - val_loss: 0.0159 - val_acc: 1.00000.990 - ETA: 6s - loss: 0.02 - ETA: 5s - loss: 0.0261 - acc - ETA: 4s - loss: 0.0316 - ETA: 1s - loss: 0.0308 - acc - ETA: 0s - loss: 0.0312 - \n",
      "Epoch 15/30\n",
      "356/356 [==============================] - 8s - loss: 0.0286 - acc: 0.9889 - val_loss: 0.0316 - val_acc: 1.0000\n",
      "Epoch 16/30\n",
      "356/356 [==============================] - 8s - loss: 0.0306 - acc: 0.9902 - val_loss: 0.0709 - val_acc: 0.9333\n",
      "Epoch 17/30\n",
      "356/356 [==============================] - 8s - loss: 0.0313 - acc: 0.9898 - val_loss: 0.0060 - val_acc: 1.0000\n",
      "Epoch 18/30\n",
      "356/356 [==============================] - 8s - loss: 0.0270 - acc: 0.9905 - val_loss: 0.0201 - val_acc: 1.0000\n",
      "Epoch 19/30\n",
      "356/356 [==============================] - 8s - loss: 0.0321 - acc: 0.9877 - val_loss: 0.0112 - val_acc: 1.00000.987\n",
      "Epoch 20/30\n",
      "356/356 [==============================] - 8s - loss: 0.0328 - acc: 0.9882 - val_loss: 0.0037 - val_acc: 1.0000\n",
      "Epoch 21/30\n",
      "356/356 [==============================] - 8s - loss: 0.0323 - acc: 0.9903 - val_loss: 0.0039 - val_acc: 1.0000\n",
      "Epoch 22/30\n",
      "356/356 [==============================] - 8s - loss: 0.0339 - acc: 0.9898 - val_loss: 0.0114 - val_acc: 1.0000\n",
      "Epoch 23/30\n",
      "356/356 [==============================] - 8s - loss: 0.0332 - acc: 0.9888 - val_loss: 0.0040 - val_acc: 1.0000\n",
      "Epoch 24/30\n",
      "356/356 [==============================] - 8s - loss: 0.0321 - acc: 0.9886 - val_loss: 0.0058 - val_acc: 1.0000\n",
      "Epoch 25/30\n",
      "356/356 [==============================] - 8s - loss: 0.0339 - acc: 0.9895 - val_loss: 0.0048 - val_acc: 1.0000\n",
      "Epoch 26/30\n",
      "356/356 [==============================] - 8s - loss: 0.0306 - acc: 0.9895 - val_loss: 0.0059 - val_acc: 1.0000\n",
      "Epoch 27/30\n",
      "356/356 [==============================] - 8s - loss: 0.0311 - acc: 0.9909 - val_loss: 0.0018 - val_acc: 1.0000\n",
      "Epoch 28/30\n",
      "356/356 [==============================] - 8s - loss: 0.0310 - acc: 0.9912 - val_loss: 8.1553e-04 - val_acc: 1.00001\n",
      "Epoch 29/30\n",
      "356/356 [==============================] - 8s - loss: 0.0204 - acc: 0.9926 - val_loss: 0.0046 - val_acc: 1.0000\n",
      "Epoch 30/30\n",
      "356/356 [==============================] - 8s - loss: 0.0333 - acc: 0.9907 - val_loss: 0.0068 - val_acc: 1.0000\n",
      "Test loss: 0.00679189106449\n",
      "Test accuracy: 1.0\n"
     ]
    }
   ],
   "source": [
    "model.compile(loss=keras.losses.categorical_crossentropy,\n",
    "              optimizer=keras.optimizers.Adadelta(),\n",
    "              metrics=['accuracy'])\n",
    "model.fit_generator(datagen.flow(x_train, y_train, batch_size=16), steps_per_epoch=x_train.shape[0],\n",
    "                    epochs=30, verbose=1, validation_data=(x_test, y_test))\n",
    "score = model.evaluate(x_test, y_test, verbose=0)\n",
    "print('Test loss:', score[0])\n",
    "print('Test accuracy:', score[1])"
   ]
  },
  {
   "cell_type": "code",
   "execution_count": 24,
   "metadata": {},
   "outputs": [
    {
     "name": "stdout",
     "output_type": "stream",
     "text": [
      "[ 0  1  2  3  4  5  6  7  8  9 10 11 12 13 14]\n",
      "[ 0  1  2  3  4  5  6  7  8  9 10 11 12 13 14]\n",
      "[]\n"
     ]
    }
   ],
   "source": [
    "pred_res = model.predict(x_test)\n",
    "res = np.array([np.argmax(r) for r in pred_res])\n",
    "ans = np.array([np.where(y == 1)[0][0] for y in y_test])\n",
    "print(res)\n",
    "print(ans)\n",
    "correct = np.where(res == ans)[0]\n",
    "errors = np.where(res != ans)[0]\n",
    "print(errors)"
   ]
  },
  {
   "cell_type": "code",
   "execution_count": 25,
   "metadata": {
    "scrolled": true
   },
   "outputs": [],
   "source": [
    "for e in errors:\n",
    "    display_image(np.uint8(x_test[e] * 255)[:, :, 0])\n",
    "    if len(labels) > res[e]:\n",
    "        print(labels[res[e]])\n",
    "    else:\n",
    "        print(\"p\")\n",
    "        print(labels[res[e] - len(labels)])"
   ]
  },
  {
   "cell_type": "code",
   "execution_count": 19,
   "metadata": {
    "scrolled": false
   },
   "outputs": [
    {
     "data": {
      "image/png": "[encoded data removed]",
      "text/plain": [
       "<IPython.core.display.Image object>"
      ]
     },
     "metadata": {},
     "output_type": "display_data"
    },
    {
     "name": "stdout",
     "output_type": "stream",
     "text": [
      "gyoku\n"
     ]
    },
    {
     "data": {
      "image/png": "[encoded data removed]",
      "text/plain": [
       "<IPython.core.display.Image object>"
      ]
     },
     "metadata": {},
     "output_type": "display_data"
    },
    {
     "name": "stdout",
     "output_type": "stream",
     "text": [
      "ou\n"
     ]
    },
    {
     "data": {
      "image/png": "[encoded data removed]",
      "text/plain": [
       "<IPython.core.display.Image object>"
      ]
     },
     "metadata": {},
     "output_type": "display_data"
    },
    {
     "name": "stdout",
     "output_type": "stream",
     "text": [
      "kin\n"
     ]
    },
    {
     "data": {
      "image/png": "[encoded data removed]",
      "text/plain": [
       "<IPython.core.display.Image object>"
      ]
     },
     "metadata": {},
     "output_type": "display_data"
    },
    {
     "name": "stdout",
     "output_type": "stream",
     "text": [
      "gin\n"
     ]
    },
    {
     "data": {
      "image/png": "[encoded data removed]",
      "text/plain": [
       "<IPython.core.display.Image object>"
      ]
     },
     "metadata": {},
     "output_type": "display_data"
    },
    {
     "name": "stdout",
     "output_type": "stream",
     "text": [
      "kei\n"
     ]
    },
    {
     "data": {
      "image/png": "[encoded data removed]",
      "text/plain": [
       "<IPython.core.display.Image object>"
      ]
     },
     "metadata": {},
     "output_type": "display_data"
    },
    {
     "name": "stdout",
     "output_type": "stream",
     "text": [
      "kyo\n"
     ]
    },
    {
     "data": {
      "image/png": "[encoded data removed]",
      "text/plain": [
       "<IPython.core.display.Image object>"
      ]
     },
     "metadata": {},
     "output_type": "display_data"
    },
    {
     "name": "stdout",
     "output_type": "stream",
     "text": [
      "kaku\n"
     ]
    },
    {
     "data": {
      "image/png": "[encoded data removed]",
      "text/plain": [
       "<IPython.core.display.Image object>"
      ]
     },
     "metadata": {},
     "output_type": "display_data"
    },
    {
     "name": "stdout",
     "output_type": "stream",
     "text": [
      "hi\n"
     ]
    },
    {
     "data": {
      "image/png": "[encoded data removed]",
      "text/plain": [
       "<IPython.core.display.Image object>"
      ]
     },
     "metadata": {},
     "output_type": "display_data"
    },
    {
     "name": "stdout",
     "output_type": "stream",
     "text": [
      "fu\n"
     ]
    },
    {
     "data": {
      "image/png": "[encoded data removed]",
      "text/plain": [
       "<IPython.core.display.Image object>"
      ]
     },
     "metadata": {},
     "output_type": "display_data"
    },
    {
     "name": "stdout",
     "output_type": "stream",
     "text": [
      "narigin\n"
     ]
    },
    {
     "data": {
      "image/png": "[encoded data removed]",
      "text/plain": [
       "<IPython.core.display.Image object>"
      ]
     },
     "metadata": {},
     "output_type": "display_data"
    },
    {
     "name": "stdout",
     "output_type": "stream",
     "text": [
      "narikei\n"
     ]
    },
    {
     "data": {
      "image/png": "[encoded data removed]",
      "text/plain": [
       "<IPython.core.display.Image object>"
      ]
     },
     "metadata": {},
     "output_type": "display_data"
    },
    {
     "name": "stdout",
     "output_type": "stream",
     "text": [
      "narikyo\n"
     ]
    },
    {
     "data": {
      "image/png": "[encoded data removed]",
      "text/plain": [
       "<IPython.core.display.Image object>"
      ]
     },
     "metadata": {},
     "output_type": "display_data"
    },
    {
     "name": "stdout",
     "output_type": "stream",
     "text": [
      "uma\n"
     ]
    },
    {
     "data": {
      "image/png": "[encoded data removed]",
      "text/plain": [
       "<IPython.core.display.Image object>"
      ]
     },
     "metadata": {},
     "output_type": "display_data"
    },
    {
     "name": "stdout",
     "output_type": "stream",
     "text": [
      "to\n"
     ]
    }
   ],
   "source": [
    "for e in correct:\n",
    "    display_image(np.uint8(x_test[e] * 255)[:, :, 0])\n",
    "    if len(labels) > res[e]:\n",
    "        print(labels[res[e]])\n",
    "    else:\n",
    "        print(\"p\")\n",
    "        print(labels[res[e] - len(labels)])"
   ]
  },
  {
   "cell_type": "code",
   "execution_count": null,
   "metadata": {
    "collapsed": true
   },
   "outputs": [],
   "source": []
  }
 ],
 "metadata": {
  "kernelspec": {
   "display_name": "Python 3",
   "language": "python",
   "name": "python3"
  },
  "language_info": {
   "codemirror_mode": {
    "name": "ipython",
    "version": 3
   },
   "file_extension": ".py",
   "mimetype": "text/x-python",
   "name": "python",
   "nbconvert_exporter": "python",
   "pygments_lexer": "ipython3",
   "version": "3.5.3"
  }
 },
 "nbformat": 4,
 "nbformat_minor": 2
}
