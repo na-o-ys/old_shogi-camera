{
 "cells": [
  {
   "cell_type": "code",
   "execution_count": 36,
   "metadata": {
    "scrolled": true
   },
   "outputs": [
    {
     "name": "stderr",
     "output_type": "stream",
     "text": [
      "/usr/local/lib/python3.5/dist-packages/ipykernel_launcher.py:19: VisibleDeprecationWarning: using a non-integer number instead of an integer will result in an error in the future\n"
     ]
    }
   ],
   "source": [
    "import cv2\n",
    "import glob\n",
    "import numpy as np\n",
    "from IPython.display import display, Image\n",
    "\n",
    "def display_cv_image(image, format='.png'):\n",
    "    decoded_bytes = cv2.imencode(format, image)[1].tobytes()\n",
    "    display(Image(data=decoded_bytes))\n",
    "\n",
    "# h * w のグレースケール\n",
    "def normalize(img, h, w):\n",
    "    size = img.shape[:2]\n",
    "    f = min(h / size[0], w / size[1])\n",
    "    resized = cv2.resize(img, (int(size[1] * f), int(size[0] * f)), interpolation=cv2.INTER_AREA)\n",
    "    \n",
    "    gray = cv2.cvtColor(resized, cv2.COLOR_BGR2GRAY)\n",
    "    blank = np.full((h, w), np.uint8(255), dtype=np.uint8)\n",
    "    hstart = (h - gray.shape[0]) / 2\n",
    "    wstart = (w - gray.shape[1]) / 2\n",
    "    blank[hstart:(hstart + gray.shape[0]), wstart:(wstart + gray.shape[1])] = gray\n",
    "    return blank\n",
    "\n",
    "labels = ['gyoku', 'ou', 'kin', 'gin', 'kei', 'kyo', 'kaku', 'hi', 'fu', 'narigin', 'narikei', 'narikyo', 'uma', 'ryu', 'to']\n",
    "for label in labels:\n",
    "    files = glob.glob('images/koma/%s/*' % label)\n",
    "    imgs = [cv2.imread(f) for f in files]\n",
    "    imgs = np.array([normalize(img, 32, 32) for img in imgs])\n",
    "    np.savez_compressed('%s.npz' % label, imgs)"
   ]
  },
  {
   "cell_type": "code",
   "execution_count": null,
   "metadata": {
    "collapsed": true
   },
   "outputs": [],
   "source": []
  }
 ],
 "metadata": {
  "kernelspec": {
   "display_name": "Python 3",
   "language": "python",
   "name": "python3"
  },
  "language_info": {
   "codemirror_mode": {
    "name": "ipython",
    "version": 3
   },
   "file_extension": ".py",
   "mimetype": "text/x-python",
   "name": "python",
   "nbconvert_exporter": "python",
   "pygments_lexer": "ipython3",
   "version": "3.5.2"
  }
 },
 "nbformat": 4,
 "nbformat_minor": 2
}
